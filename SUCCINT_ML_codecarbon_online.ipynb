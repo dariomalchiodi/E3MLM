{
  "cells": [
    {
      "cell_type": "markdown",
      "metadata": {
        "id": "6xxhDmGNKy-W"
      },
      "source": [
        "\n",
        "\n",
        "```\n",
        "# This is formatted as code\n",
        "```\n",
        "\n",
        "# **Installing Codecarbon From PyPi repository**\n",
        "* ## see [docs](https://mlco2.github.io/codecarbon/installation.html) for further details"
      ]
    },
    {
      "cell_type": "code",
      "execution_count": null,
      "metadata": {
        "colab": {
          "base_uri": "https://localhost:8080/"
        },
        "id": "PrjMKy9YQ6BR",
        "outputId": "c0701706-f320-4c7c-f873-5e3fd509d46c"
      },
      "outputs": [
        {
          "output_type": "stream",
          "name": "stdout",
          "text": [
            "Collecting codecarbon\n",
            "  Downloading codecarbon-2.4.2-py3-none-any.whl (494 kB)\n",
            "\u001b[2K     \u001b[90m━━━━━━━━━━━━━━━━━━━━━━━━━━━━━━━━━━━━━━━━\u001b[0m \u001b[32m494.9/494.9 kB\u001b[0m \u001b[31m6.2 MB/s\u001b[0m eta \u001b[36m0:00:00\u001b[0m\n",
            "\u001b[?25hCollecting arrow (from codecarbon)\n",
            "  Downloading arrow-1.3.0-py3-none-any.whl (66 kB)\n",
            "\u001b[2K     \u001b[90m━━━━━━━━━━━━━━━━━━━━━━━━━━━━━━━━━━━━━━━━\u001b[0m \u001b[32m66.4/66.4 kB\u001b[0m \u001b[31m5.4 MB/s\u001b[0m eta \u001b[36m0:00:00\u001b[0m\n",
            "\u001b[?25hRequirement already satisfied: click in /usr/local/lib/python3.10/dist-packages (from codecarbon) (8.1.7)\n",
            "Requirement already satisfied: pandas in /usr/local/lib/python3.10/dist-packages (from codecarbon) (2.0.3)\n",
            "Requirement already satisfied: prometheus-client in /usr/local/lib/python3.10/dist-packages (from codecarbon) (0.20.0)\n",
            "Requirement already satisfied: psutil in /usr/local/lib/python3.10/dist-packages (from codecarbon) (5.9.5)\n",
            "Requirement already satisfied: py-cpuinfo in /usr/local/lib/python3.10/dist-packages (from codecarbon) (9.0.0)\n",
            "Collecting pynvml (from codecarbon)\n",
            "  Downloading pynvml-11.5.0-py3-none-any.whl (53 kB)\n",
            "\u001b[2K     \u001b[90m━━━━━━━━━━━━━━━━━━━━━━━━━━━━━━━━━━━━━━━━\u001b[0m \u001b[32m53.1/53.1 kB\u001b[0m \u001b[31m7.7 MB/s\u001b[0m eta \u001b[36m0:00:00\u001b[0m\n",
            "\u001b[?25hCollecting rapidfuzz (from codecarbon)\n",
            "  Downloading rapidfuzz-3.9.3-cp310-cp310-manylinux_2_17_x86_64.manylinux2014_x86_64.whl (3.4 MB)\n",
            "\u001b[2K     \u001b[90m━━━━━━━━━━━━━━━━━━━━━━━━━━━━━━━━━━━━━━━━\u001b[0m \u001b[32m3.4/3.4 MB\u001b[0m \u001b[31m18.7 MB/s\u001b[0m eta \u001b[36m0:00:00\u001b[0m\n",
            "\u001b[?25hRequirement already satisfied: requests in /usr/local/lib/python3.10/dist-packages (from codecarbon) (2.31.0)\n",
            "Requirement already satisfied: python-dateutil>=2.7.0 in /usr/local/lib/python3.10/dist-packages (from arrow->codecarbon) (2.8.2)\n",
            "Collecting types-python-dateutil>=2.8.10 (from arrow->codecarbon)\n",
            "  Downloading types_python_dateutil-2.9.0.20240316-py3-none-any.whl (9.7 kB)\n",
            "Requirement already satisfied: pytz>=2020.1 in /usr/local/lib/python3.10/dist-packages (from pandas->codecarbon) (2023.4)\n",
            "Requirement already satisfied: tzdata>=2022.1 in /usr/local/lib/python3.10/dist-packages (from pandas->codecarbon) (2024.1)\n",
            "Requirement already satisfied: numpy>=1.21.0 in /usr/local/lib/python3.10/dist-packages (from pandas->codecarbon) (1.25.2)\n",
            "Requirement already satisfied: charset-normalizer<4,>=2 in /usr/local/lib/python3.10/dist-packages (from requests->codecarbon) (3.3.2)\n",
            "Requirement already satisfied: idna<4,>=2.5 in /usr/local/lib/python3.10/dist-packages (from requests->codecarbon) (3.7)\n",
            "Requirement already satisfied: urllib3<3,>=1.21.1 in /usr/local/lib/python3.10/dist-packages (from requests->codecarbon) (2.0.7)\n",
            "Requirement already satisfied: certifi>=2017.4.17 in /usr/local/lib/python3.10/dist-packages (from requests->codecarbon) (2024.6.2)\n",
            "Requirement already satisfied: six>=1.5 in /usr/local/lib/python3.10/dist-packages (from python-dateutil>=2.7.0->arrow->codecarbon) (1.16.0)\n",
            "Installing collected packages: types-python-dateutil, rapidfuzz, pynvml, arrow, codecarbon\n",
            "Successfully installed arrow-1.3.0 codecarbon-2.4.2 pynvml-11.5.0 rapidfuzz-3.9.3 types-python-dateutil-2.9.0.20240316\n"
          ]
        }
      ],
      "source": [
        "!pip install codecarbon"
      ]
    },
    {
      "cell_type": "markdown",
      "metadata": {
        "id": "XpaIu7tqKy-g"
      },
      "source": [
        "# **Tracking the $CO_2$ emissions**\n",
        " * ## It supports both online (with internet access) and offline (without internet access) modes\n",
        " * ## The object ```EmissionsTracker``` is used for online tracking\n",
        " * ## The object ```OfflineEmissionsTracker``` instead for offline traking\n",
        "    * ### in this case a ```country_iso_code``` parameter must be specified\n",
        "    * ### It orresponds to the 3-letter alphabet ISO Code of the country where the compute infrastructure is hosted\n",
        "    * ### Needed to fetch Carbon Intensity details of the regional electricity used\n",
        "    * ### See [here](https://en.wikipedia.org/wiki/List_of_ISO_3166_country_codes) for a complete list of country ISO codes\n",
        ">> #### ```from codecarbon import OfflineEmissionsTracker```\n",
        ">> #### ```tracker = OfflineEmissionsTracker(country_iso_code=\"ITA\")```    "
      ]
    },
    {
      "cell_type": "markdown",
      "metadata": {
        "id": "ZVdEumNDKy-h"
      },
      "source": [
        "# Once intanstiated the OfflineEmissionTracker, it already provides for us info about:\n",
        " * ## The operative system platform\n",
        " * ## The Ptython and CodeCarbon version\n",
        " * ## The avaialble RAM, CPU and GPU count, and the relative type\n",
        "\n",
        "# To start the tracker we need to run the ```start()``` method, ```stop()``` instead to end the tracking\n",
        ">> #### ```tracker.start()```\n",
        ">>> #HERE THE CODE TO TRACK\n",
        ">> #### ```tracker.stop()```"
      ]
    },
    {
      "cell_type": "markdown",
      "metadata": {
        "id": "ZsDQbSGYKy-i"
      },
      "source": [
        "# Some configurations are available to track only some device consumption (see docs)"
      ]
    },
    {
      "cell_type": "markdown",
      "metadata": {
        "id": "44hWE1SqKy-i"
      },
      "source": [
        "# **EXAMPLE**\n",
        "## Train a Deep Learning model on MNIST Data to recognize digits in images using TensorFlow Keras"
      ]
    },
    {
      "cell_type": "code",
      "execution_count": null,
      "metadata": {
        "colab": {
          "base_uri": "https://localhost:8080/"
        },
        "id": "Ola-OCm8P836",
        "outputId": "ff3f7bea-8000-4d92-de5c-4bcc255e05c3"
      },
      "outputs": [
        {
          "output_type": "stream",
          "name": "stdout",
          "text": [
            "Downloading data from https://storage.googleapis.com/tensorflow/tf-keras-datasets/mnist.npz\n",
            "11490434/11490434 [==============================] - 1s 0us/step\n",
            "X_train.shape:(60000, 28, 28), X_train type :<class 'numpy.ndarray'>\n",
            "X_test.shape:(10000, 28, 28), X_test type :<class 'numpy.ndarray'>\n",
            "Number of classes classes:10\n"
          ]
        }
      ],
      "source": [
        "import sys\n",
        "from keras.datasets import mnist\n",
        "import tensorflow as tf\n",
        "from tensorflow.keras.models import Sequential\n",
        "from tensorflow.keras.layers import Dense\n",
        "import numpy as np\n",
        "np.random.seed(42)  # for reproducibility\n",
        "tf.random.set_seed(42)\n",
        "\n",
        "(X_train, y_train), (X_test, y_test) = mnist.load_data()\n",
        "print(f\"X_train.shape:{X_train.shape}, X_train type :{type(X_train)}\")\n",
        "print(f\"X_test.shape:{X_test.shape}, X_test type :{type(X_test)}\")\n",
        "num_classes = len(np.unique(y_train))\n",
        "print(f\"Number of classes classes:{num_classes}\")"
      ]
    },
    {
      "cell_type": "markdown",
      "metadata": {
        "id": "jB4HwVwnSxrv"
      },
      "source": [
        "# We have 60000 samples in our training set belonging to 10 classes\n",
        " * ### The images are 28 pixels x 28 pixels each\n"
      ]
    },
    {
      "cell_type": "code",
      "execution_count": null,
      "metadata": {
        "id": "VXiyeJcuRAbK"
      },
      "outputs": [],
      "source": [
        "# Normalizing in [0,1]\n",
        "X_train = X_train/255.0\n",
        "X_test = X_test/255.0"
      ]
    },
    {
      "cell_type": "markdown",
      "metadata": {
        "id": "xxjaXQiLRyYn"
      },
      "source": [
        "# Keras models accept three types of inputs:\n",
        " * ### **NumPy arrays**, just like Scikit-Learn\n",
        " * ### **TensorFlow Dataset objects**\n",
        " * ### **Python generators** that yield batches of data\n",
        "\n",
        "# Let's build a MLP in Keras\n",
        " * ## ```Sequential``` represent the feed-forward models, ```Dense``` a fully-connected layer"
      ]
    },
    {
      "cell_type": "markdown",
      "metadata": {
        "id": "RzHMFIbpTfjZ"
      },
      "source": [
        "# MLP takes vectors as inputs\n",
        "# How to make images into MLP input?\n",
        "  * ### Simply, we vectorize them using the `reshape()` method"
      ]
    },
    {
      "cell_type": "code",
      "execution_count": null,
      "metadata": {
        "colab": {
          "base_uri": "https://localhost:8080/"
        },
        "id": "398xOxb1TiIV",
        "outputId": "a082de11-1ccf-4964-fd18-098e5d2a24c0"
      },
      "outputs": [
        {
          "output_type": "stream",
          "name": "stdout",
          "text": [
            "X_train.shape:(60000, 784)\n",
            "X_train.dtype:float64\n",
            "X_train.dtype:float32\n"
          ]
        }
      ],
      "source": [
        "# reshaping all the training, testing dataset, by removing one dimension\n",
        "X_train = X_train.reshape(-1, 28*28)\n",
        "print(f\"X_train.shape:{X_train.shape}\")\n",
        "X_test = X_test.reshape(-1, 28*28)\n",
        "# keras models need float32 inputs\n",
        "print(f\"X_train.dtype:{X_train.dtype}\")\n",
        "X_train = X_train.astype('float32')\n",
        "print(f\"X_train.dtype:{X_train.dtype}\")\n",
        "X_test = X_test.astype('float32')"
      ]
    },
    {
      "cell_type": "markdown",
      "metadata": {
        "id": "xpTI2qScKy-n"
      },
      "source": [
        "# **CREATING THE MODEL**"
      ]
    },
    {
      "cell_type": "code",
      "execution_count": null,
      "metadata": {
        "id": "Zo77jOJNUTQx"
      },
      "outputs": [],
      "source": [
        "# hidden_units, list of integeres, where hidden_units[i] is the number of units\n",
        "#  to use in the i-th hidden FC layer\n",
        "def build_model(hidden_units):\n",
        "    if len(hidden_units)<=1:\n",
        "        sys.exit(\"At least one hidden layer is necessary. len(hidden_units) must be greater that 0\")\n",
        "    model = Sequential()\n",
        "    model.add(Dense(hidden_units[0], input_shape=(28*28,), activation='sigmoid'))\n",
        "    for i in range(1,len(hidden_units)):\n",
        "        model.add(Dense(hidden_units[i], activation='sigmoid'))\n",
        "\n",
        "    # output layer\n",
        "    model.add(Dense(num_classes, activation='softmax'))\n",
        "    print(f\"model.count_params(): {model.count_params()}\")\n",
        "    # compiling the model\n",
        "    model.compile(optimizer=tf.keras.optimizers.Adam(learning_rate=0.005), # type of gradient descent procedure\n",
        "                loss='sparse_categorical_crossentropy',\n",
        "                metrics=['accuracy'])\n",
        "    return model"
      ]
    },
    {
      "cell_type": "markdown",
      "metadata": {
        "id": "vksrX0whUaIU"
      },
      "source": [
        "# **Fitting models and estimate the carbon footprint**\n",
        "*  ## For just for a few epochs as an example\n",
        "*  ## Testing models of different complexity to evalaute the tradeoff accuracy/emissions\n",
        "*  ## The tracker object returns just the total amount of emissions\n",
        "   * ### however, the package has an in-built logger that logs data into a CSV file named ```emissions.csv``` in the output_dir, provided as an input parameter (defaults to the current directory), for each experiment tracked across projects\n",
        "   * ### The data stored are the following: timestamp,project_name,run_id,duration,emissions,emissions_rate,cpu_power,\n",
        "   >> ###  gpu_power,ram_power,cpu_energy,gpu_energy,ram_energy,energy_consumed,country_name,country_iso_code,region,\n",
        "   >> ###  cloud_provider,cloud_region,os,python_version,codecarbon_version,cpu_count,cpu_model,gpu_count,gpu_model,\n",
        "   >> ###  longitude,latitude,ram_total_size,tracking_mode,on_cloud,pue\n"
      ]
    },
    {
      "cell_type": "code",
      "execution_count": null,
      "metadata": {
        "colab": {
          "base_uri": "https://localhost:8080/"
        },
        "id": "NUuiXUEuV7KJ",
        "outputId": "884bec74-23df-4c54-ac95-e799d259068a"
      },
      "outputs": [
        {
          "output_type": "stream",
          "name": "stderr",
          "text": [
            "[codecarbon WARNING @ 00:07:58] Invalid gpu_ids format. Expected a string or a list of ints.\n",
            "[codecarbon INFO @ 00:07:58] [setup] RAM Tracking...\n",
            "[codecarbon INFO @ 00:07:58] [setup] GPU Tracking...\n",
            "[codecarbon INFO @ 00:07:58] Tracking Nvidia GPU via pynvml\n",
            "[codecarbon INFO @ 00:07:58] [setup] CPU Tracking...\n",
            "[codecarbon WARNING @ 00:07:58] No CPU tracking mode found. Falling back on CPU constant mode.\n"
          ]
        },
        {
          "output_type": "stream",
          "name": "stdout",
          "text": [
            "model.count_params(): 13002\n"
          ]
        },
        {
          "output_type": "stream",
          "name": "stderr",
          "text": [
            "[codecarbon WARNING @ 00:08:00] We saw that you have a Intel(R) Xeon(R) CPU @ 2.00GHz but we don't know it. Please contact us.\n",
            "[codecarbon INFO @ 00:08:00] CPU Model on constant consumption mode: Intel(R) Xeon(R) CPU @ 2.00GHz\n",
            "[codecarbon INFO @ 00:08:00] >>> Tracker's metadata:\n",
            "[codecarbon INFO @ 00:08:00]   Platform system: Linux-6.1.85+-x86_64-with-glibc2.35\n",
            "[codecarbon INFO @ 00:08:00]   Python version: 3.10.12\n",
            "[codecarbon INFO @ 00:08:00]   CodeCarbon version: 2.4.2\n",
            "[codecarbon INFO @ 00:08:00]   Available RAM : 12.675 GB\n",
            "[codecarbon INFO @ 00:08:00]   CPU count: 2\n",
            "[codecarbon INFO @ 00:08:00]   CPU model: Intel(R) Xeon(R) CPU @ 2.00GHz\n",
            "[codecarbon INFO @ 00:08:00]   GPU count: 1\n",
            "[codecarbon INFO @ 00:08:00]   GPU model: 1 x Tesla T4\n",
            "[codecarbon INFO @ 00:08:15] Energy consumed for RAM : 0.000020 kWh. RAM Power : 4.753040313720703 W\n",
            "[codecarbon INFO @ 00:08:15] Energy consumed for all GPUs : 0.000114 kWh. Total GPU Power : 27.242044895708993 W\n",
            "[codecarbon INFO @ 00:08:15] Energy consumed for all CPUs : 0.000178 kWh. Total CPU Power : 42.5 W\n",
            "[codecarbon INFO @ 00:08:15] 0.000311 kWh of electricity used since the beginning.\n",
            "[codecarbon INFO @ 00:08:30] Energy consumed for RAM : 0.000040 kWh. RAM Power : 4.753040313720703 W\n",
            "[codecarbon INFO @ 00:08:30] Energy consumed for all GPUs : 0.000229 kWh. Total GPU Power : 27.863379526692754 W\n",
            "[codecarbon INFO @ 00:08:30] Energy consumed for all CPUs : 0.000354 kWh. Total CPU Power : 42.5 W\n",
            "[codecarbon INFO @ 00:08:30] 0.000623 kWh of electricity used since the beginning.\n",
            "[codecarbon INFO @ 00:08:45] Energy consumed for RAM : 0.000059 kWh. RAM Power : 4.753040313720703 W\n",
            "[codecarbon INFO @ 00:08:45] Energy consumed for all GPUs : 0.000345 kWh. Total GPU Power : 27.884261679628082 W\n",
            "[codecarbon INFO @ 00:08:45] Energy consumed for all CPUs : 0.000531 kWh. Total CPU Power : 42.5 W\n",
            "[codecarbon INFO @ 00:08:45] 0.000936 kWh of electricity used since the beginning.\n",
            "[codecarbon INFO @ 00:09:00] Energy consumed for RAM : 0.000079 kWh. RAM Power : 4.753040313720703 W\n",
            "[codecarbon INFO @ 00:09:00] Energy consumed for all GPUs : 0.000463 kWh. Total GPU Power : 28.31234568560252 W\n",
            "[codecarbon INFO @ 00:09:00] Energy consumed for all CPUs : 0.000708 kWh. Total CPU Power : 42.5 W\n",
            "[codecarbon INFO @ 00:09:00] 0.001251 kWh of electricity used since the beginning.\n"
          ]
        },
        {
          "output_type": "stream",
          "name": "stdout",
          "text": [
            "192/313 [=================>............] - ETA: 0s"
          ]
        },
        {
          "output_type": "stream",
          "name": "stderr",
          "text": [
            "[codecarbon INFO @ 00:09:15] Energy consumed for RAM : 0.000099 kWh. RAM Power : 4.753040313720703 W\n",
            "[codecarbon INFO @ 00:09:15] Energy consumed for all GPUs : 0.000581 kWh. Total GPU Power : 28.256346158848995 W\n",
            "[codecarbon INFO @ 00:09:15] Energy consumed for all CPUs : 0.000885 kWh. Total CPU Power : 42.5 W\n",
            "[codecarbon INFO @ 00:09:15] 0.001565 kWh of electricity used since the beginning.\n"
          ]
        },
        {
          "output_type": "stream",
          "name": "stdout",
          "text": [
            "313/313 [==============================] - 1s 2ms/step\n"
          ]
        },
        {
          "output_type": "stream",
          "name": "stderr",
          "text": [
            "[codecarbon INFO @ 00:09:15] Energy consumed for RAM : 0.000099 kWh. RAM Power : 4.753040313720703 W\n",
            "[codecarbon INFO @ 00:09:15] Energy consumed for all GPUs : 0.000584 kWh. Total GPU Power : 26.15411527825667 W\n",
            "[codecarbon INFO @ 00:09:15] Energy consumed for all CPUs : 0.000890 kWh. Total CPU Power : 42.5 W\n",
            "[codecarbon INFO @ 00:09:15] 0.001574 kWh of electricity used since the beginning.\n",
            "[codecarbon WARNING @ 00:09:15] Invalid gpu_ids format. Expected a string or a list of ints.\n",
            "[codecarbon INFO @ 00:09:15] [setup] RAM Tracking...\n",
            "[codecarbon INFO @ 00:09:15] [setup] GPU Tracking...\n",
            "[codecarbon INFO @ 00:09:15] Tracking Nvidia GPU via pynvml\n",
            "[codecarbon INFO @ 00:09:15] [setup] CPU Tracking...\n",
            "[codecarbon WARNING @ 00:09:15] No CPU tracking mode found. Falling back on CPU constant mode.\n"
          ]
        },
        {
          "output_type": "stream",
          "name": "stdout",
          "text": [
            "\t conf: [16, 16], \n",
            "\t\t Emissions: 0.0005576130164622819 gCO2/kWh,\n",
            "\t\t test acc:0.9418\n",
            "model.count_params(): 26506\n"
          ]
        },
        {
          "output_type": "stream",
          "name": "stderr",
          "text": [
            "[codecarbon WARNING @ 00:09:17] We saw that you have a Intel(R) Xeon(R) CPU @ 2.00GHz but we don't know it. Please contact us.\n",
            "[codecarbon INFO @ 00:09:17] CPU Model on constant consumption mode: Intel(R) Xeon(R) CPU @ 2.00GHz\n",
            "[codecarbon INFO @ 00:09:17] >>> Tracker's metadata:\n",
            "[codecarbon INFO @ 00:09:17]   Platform system: Linux-6.1.85+-x86_64-with-glibc2.35\n",
            "[codecarbon INFO @ 00:09:17]   Python version: 3.10.12\n",
            "[codecarbon INFO @ 00:09:17]   CodeCarbon version: 2.4.2\n",
            "[codecarbon INFO @ 00:09:17]   Available RAM : 12.675 GB\n",
            "[codecarbon INFO @ 00:09:17]   CPU count: 2\n",
            "[codecarbon INFO @ 00:09:17]   CPU model: Intel(R) Xeon(R) CPU @ 2.00GHz\n",
            "[codecarbon INFO @ 00:09:17]   GPU count: 1\n",
            "[codecarbon INFO @ 00:09:17]   GPU model: 1 x Tesla T4\n",
            "[codecarbon INFO @ 00:09:32] Energy consumed for RAM : 0.000020 kWh. RAM Power : 4.753040313720703 W\n",
            "[codecarbon INFO @ 00:09:32] Energy consumed for all GPUs : 0.000119 kWh. Total GPU Power : 28.57750459451149 W\n",
            "[codecarbon INFO @ 00:09:32] Energy consumed for all CPUs : 0.000177 kWh. Total CPU Power : 42.5 W\n",
            "[codecarbon INFO @ 00:09:32] 0.000316 kWh of electricity used since the beginning.\n",
            "[codecarbon INFO @ 00:09:47] Energy consumed for RAM : 0.000040 kWh. RAM Power : 4.753040313720703 W\n",
            "[codecarbon INFO @ 00:09:47] Energy consumed for all GPUs : 0.000238 kWh. Total GPU Power : 28.56002427339438 W\n",
            "[codecarbon INFO @ 00:09:47] Energy consumed for all CPUs : 0.000354 kWh. Total CPU Power : 42.5 W\n",
            "[codecarbon INFO @ 00:09:47] 0.000632 kWh of electricity used since the beginning.\n",
            "[codecarbon INFO @ 00:10:02] Energy consumed for RAM : 0.000059 kWh. RAM Power : 4.753040313720703 W\n",
            "[codecarbon INFO @ 00:10:02] Energy consumed for all GPUs : 0.000359 kWh. Total GPU Power : 28.939945473572276 W\n",
            "[codecarbon INFO @ 00:10:02] Energy consumed for all CPUs : 0.000531 kWh. Total CPU Power : 42.5 W\n",
            "[codecarbon INFO @ 00:10:02] 0.000949 kWh of electricity used since the beginning.\n",
            "[codecarbon INFO @ 00:10:17] Energy consumed for RAM : 0.000079 kWh. RAM Power : 4.753040313720703 W\n",
            "[codecarbon INFO @ 00:10:17] Energy consumed for all GPUs : 0.000479 kWh. Total GPU Power : 28.892874785784578 W\n",
            "[codecarbon INFO @ 00:10:17] Energy consumed for all CPUs : 0.000708 kWh. Total CPU Power : 42.5 W\n",
            "[codecarbon INFO @ 00:10:17] 0.001266 kWh of electricity used since the beginning.\n",
            "[codecarbon INFO @ 00:10:32] Energy consumed for RAM : 0.000099 kWh. RAM Power : 4.753040313720703 W\n",
            "[codecarbon INFO @ 00:10:32] Energy consumed for all GPUs : 0.000599 kWh. Total GPU Power : 28.764188480538255 W\n",
            "[codecarbon INFO @ 00:10:32] Energy consumed for all CPUs : 0.000885 kWh. Total CPU Power : 42.5 W\n",
            "[codecarbon INFO @ 00:10:32] 0.001583 kWh of electricity used since the beginning.\n"
          ]
        },
        {
          "output_type": "stream",
          "name": "stdout",
          "text": [
            "313/313 [==============================] - 1s 2ms/step\n"
          ]
        },
        {
          "output_type": "stream",
          "name": "stderr",
          "text": [
            "[codecarbon INFO @ 00:10:40] Energy consumed for RAM : 0.000110 kWh. RAM Power : 4.753040313720703 W\n",
            "[codecarbon INFO @ 00:10:40] Energy consumed for all GPUs : 0.000667 kWh. Total GPU Power : 28.781591447989435 W\n",
            "[codecarbon INFO @ 00:10:40] Energy consumed for all CPUs : 0.000987 kWh. Total CPU Power : 42.5 W\n",
            "[codecarbon INFO @ 00:10:40] 0.001764 kWh of electricity used since the beginning.\n"
          ]
        },
        {
          "output_type": "stream",
          "name": "stdout",
          "text": [
            "\t conf: [32, 32], \n",
            "\t\t Emissions: 0.0006251387054855731 gCO2/kWh,\n",
            "\t\t test acc:0.9619\n"
          ]
        },
        {
          "output_type": "stream",
          "name": "stderr",
          "text": [
            "[codecarbon WARNING @ 00:10:40] Invalid gpu_ids format. Expected a string or a list of ints.\n"
          ]
        },
        {
          "output_type": "stream",
          "name": "stdout",
          "text": [
            "model.count_params(): 55050\n"
          ]
        },
        {
          "output_type": "stream",
          "name": "stderr",
          "text": [
            "[codecarbon INFO @ 00:10:40] [setup] RAM Tracking...\n",
            "[codecarbon INFO @ 00:10:40] [setup] GPU Tracking...\n",
            "[codecarbon INFO @ 00:10:40] Tracking Nvidia GPU via pynvml\n",
            "[codecarbon INFO @ 00:10:40] [setup] CPU Tracking...\n",
            "[codecarbon WARNING @ 00:10:40] No CPU tracking mode found. Falling back on CPU constant mode.\n",
            "[codecarbon WARNING @ 00:10:42] We saw that you have a Intel(R) Xeon(R) CPU @ 2.00GHz but we don't know it. Please contact us.\n",
            "[codecarbon INFO @ 00:10:42] CPU Model on constant consumption mode: Intel(R) Xeon(R) CPU @ 2.00GHz\n",
            "[codecarbon INFO @ 00:10:42] >>> Tracker's metadata:\n",
            "[codecarbon INFO @ 00:10:42]   Platform system: Linux-6.1.85+-x86_64-with-glibc2.35\n",
            "[codecarbon INFO @ 00:10:42]   Python version: 3.10.12\n",
            "[codecarbon INFO @ 00:10:42]   CodeCarbon version: 2.4.2\n",
            "[codecarbon INFO @ 00:10:42]   Available RAM : 12.675 GB\n",
            "[codecarbon INFO @ 00:10:42]   CPU count: 2\n",
            "[codecarbon INFO @ 00:10:42]   CPU model: Intel(R) Xeon(R) CPU @ 2.00GHz\n",
            "[codecarbon INFO @ 00:10:42]   GPU count: 1\n",
            "[codecarbon INFO @ 00:10:42]   GPU model: 1 x Tesla T4\n",
            "[codecarbon INFO @ 00:10:57] Energy consumed for RAM : 0.000020 kWh. RAM Power : 4.753040313720703 W\n",
            "[codecarbon INFO @ 00:10:57] Energy consumed for all GPUs : 0.000123 kWh. Total GPU Power : 29.412250258381775 W\n",
            "[codecarbon INFO @ 00:10:57] Energy consumed for all CPUs : 0.000177 kWh. Total CPU Power : 42.5 W\n",
            "[codecarbon INFO @ 00:10:57] 0.000320 kWh of electricity used since the beginning.\n",
            "[codecarbon INFO @ 00:11:12] Energy consumed for RAM : 0.000040 kWh. RAM Power : 4.753040313720703 W\n",
            "[codecarbon INFO @ 00:11:12] Energy consumed for all GPUs : 0.000245 kWh. Total GPU Power : 29.427941910201124 W\n",
            "[codecarbon INFO @ 00:11:12] Energy consumed for all CPUs : 0.000354 kWh. Total CPU Power : 42.5 W\n",
            "[codecarbon INFO @ 00:11:12] 0.000639 kWh of electricity used since the beginning.\n",
            "[codecarbon INFO @ 00:11:27] Energy consumed for RAM : 0.000059 kWh. RAM Power : 4.753040313720703 W\n",
            "[codecarbon INFO @ 00:11:27] Energy consumed for all GPUs : 0.000368 kWh. Total GPU Power : 29.552512540426505 W\n",
            "[codecarbon INFO @ 00:11:27] Energy consumed for all CPUs : 0.000531 kWh. Total CPU Power : 42.5 W\n",
            "[codecarbon INFO @ 00:11:27] 0.000959 kWh of electricity used since the beginning.\n",
            "[codecarbon INFO @ 00:11:42] Energy consumed for RAM : 0.000079 kWh. RAM Power : 4.753040313720703 W\n",
            "[codecarbon INFO @ 00:11:42] Energy consumed for all GPUs : 0.000492 kWh. Total GPU Power : 29.768449212169745 W\n",
            "[codecarbon INFO @ 00:11:42] Energy consumed for all CPUs : 0.000708 kWh. Total CPU Power : 42.5 W\n",
            "[codecarbon INFO @ 00:11:42] 0.001279 kWh of electricity used since the beginning.\n"
          ]
        },
        {
          "output_type": "stream",
          "name": "stdout",
          "text": [
            "313/313 [==============================] - 1s 2ms/step\n"
          ]
        },
        {
          "output_type": "stream",
          "name": "stderr",
          "text": [
            "[codecarbon INFO @ 00:11:49] Energy consumed for RAM : 0.000089 kWh. RAM Power : 4.753040313720703 W\n",
            "[codecarbon INFO @ 00:11:49] Energy consumed for all GPUs : 0.000555 kWh. Total GPU Power : 29.66800814680211 W\n",
            "[codecarbon INFO @ 00:11:49] Energy consumed for all CPUs : 0.000799 kWh. Total CPU Power : 42.5 W\n",
            "[codecarbon INFO @ 00:11:49] 0.001443 kWh of electricity used since the beginning.\n"
          ]
        },
        {
          "output_type": "stream",
          "name": "stdout",
          "text": [
            "\t conf: [64, 64], \n",
            "\t\t Emissions: 0.0005113262124292861 gCO2/kWh,\n",
            "\t\t test acc:0.9728\n"
          ]
        },
        {
          "output_type": "stream",
          "name": "stderr",
          "text": [
            "[codecarbon WARNING @ 00:11:49] Invalid gpu_ids format. Expected a string or a list of ints.\n",
            "[codecarbon INFO @ 00:11:49] [setup] RAM Tracking...\n",
            "[codecarbon INFO @ 00:11:49] [setup] GPU Tracking...\n",
            "[codecarbon INFO @ 00:11:49] Tracking Nvidia GPU via pynvml\n"
          ]
        },
        {
          "output_type": "stream",
          "name": "stdout",
          "text": [
            "model.count_params(): 105306\n"
          ]
        },
        {
          "output_type": "stream",
          "name": "stderr",
          "text": [
            "[codecarbon INFO @ 00:11:49] [setup] CPU Tracking...\n",
            "[codecarbon WARNING @ 00:11:49] No CPU tracking mode found. Falling back on CPU constant mode.\n",
            "[codecarbon WARNING @ 00:11:51] We saw that you have a Intel(R) Xeon(R) CPU @ 2.00GHz but we don't know it. Please contact us.\n",
            "[codecarbon INFO @ 00:11:51] CPU Model on constant consumption mode: Intel(R) Xeon(R) CPU @ 2.00GHz\n",
            "[codecarbon INFO @ 00:11:51] >>> Tracker's metadata:\n",
            "[codecarbon INFO @ 00:11:51]   Platform system: Linux-6.1.85+-x86_64-with-glibc2.35\n",
            "[codecarbon INFO @ 00:11:51]   Python version: 3.10.12\n",
            "[codecarbon INFO @ 00:11:51]   CodeCarbon version: 2.4.2\n",
            "[codecarbon INFO @ 00:11:51]   Available RAM : 12.675 GB\n",
            "[codecarbon INFO @ 00:11:51]   CPU count: 2\n",
            "[codecarbon INFO @ 00:11:51]   CPU model: Intel(R) Xeon(R) CPU @ 2.00GHz\n",
            "[codecarbon INFO @ 00:11:51]   GPU count: 1\n",
            "[codecarbon INFO @ 00:11:51]   GPU model: 1 x Tesla T4\n",
            "[codecarbon INFO @ 00:12:06] Energy consumed for RAM : 0.000020 kWh. RAM Power : 4.753040313720703 W\n",
            "[codecarbon INFO @ 00:12:06] Energy consumed for all GPUs : 0.000126 kWh. Total GPU Power : 30.220623812012164 W\n",
            "[codecarbon INFO @ 00:12:06] Energy consumed for all CPUs : 0.000177 kWh. Total CPU Power : 42.5 W\n",
            "[codecarbon INFO @ 00:12:06] 0.000323 kWh of electricity used since the beginning.\n",
            "[codecarbon INFO @ 00:12:21] Energy consumed for RAM : 0.000040 kWh. RAM Power : 4.753040313720703 W\n",
            "[codecarbon INFO @ 00:12:21] Energy consumed for all GPUs : 0.000251 kWh. Total GPU Power : 30.129993619214616 W\n",
            "[codecarbon INFO @ 00:12:21] Energy consumed for all CPUs : 0.000354 kWh. Total CPU Power : 42.5 W\n",
            "[codecarbon INFO @ 00:12:21] 0.000645 kWh of electricity used since the beginning.\n",
            "[codecarbon INFO @ 00:12:36] Energy consumed for RAM : 0.000059 kWh. RAM Power : 4.753040313720703 W\n",
            "[codecarbon INFO @ 00:12:36] Energy consumed for all GPUs : 0.000377 kWh. Total GPU Power : 30.20950637399538 W\n",
            "[codecarbon INFO @ 00:12:36] Energy consumed for all CPUs : 0.000531 kWh. Total CPU Power : 42.5 W\n",
            "[codecarbon INFO @ 00:12:36] 0.000968 kWh of electricity used since the beginning.\n",
            "[codecarbon INFO @ 00:12:51] Energy consumed for RAM : 0.000079 kWh. RAM Power : 4.753040313720703 W\n",
            "[codecarbon INFO @ 00:12:51] Energy consumed for all GPUs : 0.000504 kWh. Total GPU Power : 30.504918915781786 W\n",
            "[codecarbon INFO @ 00:12:51] Energy consumed for all CPUs : 0.000708 kWh. Total CPU Power : 42.5 W\n",
            "[codecarbon INFO @ 00:12:51] 0.001292 kWh of electricity used since the beginning.\n",
            "[codecarbon INFO @ 00:13:06] Energy consumed for RAM : 0.000099 kWh. RAM Power : 4.753040313720703 W\n",
            "[codecarbon INFO @ 00:13:06] Energy consumed for all GPUs : 0.000630 kWh. Total GPU Power : 30.265033707373817 W\n",
            "[codecarbon INFO @ 00:13:06] Energy consumed for all CPUs : 0.000885 kWh. Total CPU Power : 42.5 W\n",
            "[codecarbon INFO @ 00:13:06] 0.001615 kWh of electricity used since the beginning.\n"
          ]
        },
        {
          "output_type": "stream",
          "name": "stdout",
          "text": [
            "313/313 [==============================] - 1s 2ms/step\n"
          ]
        },
        {
          "output_type": "stream",
          "name": "stderr",
          "text": [
            "[codecarbon INFO @ 00:13:15] Energy consumed for RAM : 0.000111 kWh. RAM Power : 4.753040313720703 W\n",
            "[codecarbon INFO @ 00:13:15] Energy consumed for all GPUs : 0.000704 kWh. Total GPU Power : 29.802751265896017 W\n",
            "[codecarbon INFO @ 00:13:15] Energy consumed for all CPUs : 0.000990 kWh. Total CPU Power : 42.5 W\n",
            "[codecarbon INFO @ 00:13:15] 0.001805 kWh of electricity used since the beginning.\n"
          ]
        },
        {
          "output_type": "stream",
          "name": "stdout",
          "text": [
            "\t conf: [128, 32, 16], \n",
            "\t\t Emissions: 0.0006395176630559096 gCO2/kWh,\n",
            "\t\t test acc:0.9772\n",
            "model.count_params(): 111146\n"
          ]
        },
        {
          "output_type": "stream",
          "name": "stderr",
          "text": [
            "[codecarbon WARNING @ 00:13:15] Invalid gpu_ids format. Expected a string or a list of ints.\n",
            "[codecarbon INFO @ 00:13:15] [setup] RAM Tracking...\n",
            "[codecarbon INFO @ 00:13:15] [setup] GPU Tracking...\n",
            "[codecarbon INFO @ 00:13:15] Tracking Nvidia GPU via pynvml\n",
            "[codecarbon INFO @ 00:13:15] [setup] CPU Tracking...\n",
            "[codecarbon WARNING @ 00:13:15] No CPU tracking mode found. Falling back on CPU constant mode.\n",
            "[codecarbon WARNING @ 00:13:16] We saw that you have a Intel(R) Xeon(R) CPU @ 2.00GHz but we don't know it. Please contact us.\n",
            "[codecarbon INFO @ 00:13:16] CPU Model on constant consumption mode: Intel(R) Xeon(R) CPU @ 2.00GHz\n",
            "[codecarbon INFO @ 00:13:16] >>> Tracker's metadata:\n",
            "[codecarbon INFO @ 00:13:16]   Platform system: Linux-6.1.85+-x86_64-with-glibc2.35\n",
            "[codecarbon INFO @ 00:13:16]   Python version: 3.10.12\n",
            "[codecarbon INFO @ 00:13:16]   CodeCarbon version: 2.4.2\n",
            "[codecarbon INFO @ 00:13:16]   Available RAM : 12.675 GB\n",
            "[codecarbon INFO @ 00:13:16]   CPU count: 2\n",
            "[codecarbon INFO @ 00:13:16]   CPU model: Intel(R) Xeon(R) CPU @ 2.00GHz\n",
            "[codecarbon INFO @ 00:13:16]   GPU count: 1\n",
            "[codecarbon INFO @ 00:13:16]   GPU model: 1 x Tesla T4\n",
            "[codecarbon INFO @ 00:13:31] Energy consumed for RAM : 0.000020 kWh. RAM Power : 4.753040313720703 W\n",
            "[codecarbon INFO @ 00:13:31] Energy consumed for all GPUs : 0.000127 kWh. Total GPU Power : 30.44505807323798 W\n",
            "[codecarbon INFO @ 00:13:31] Energy consumed for all CPUs : 0.000177 kWh. Total CPU Power : 42.5 W\n",
            "[codecarbon INFO @ 00:13:31] 0.000324 kWh of electricity used since the beginning.\n",
            "[codecarbon INFO @ 00:13:46] Energy consumed for RAM : 0.000040 kWh. RAM Power : 4.753040313720703 W\n",
            "[codecarbon INFO @ 00:13:46] Energy consumed for all GPUs : 0.000256 kWh. Total GPU Power : 30.89460108799544 W\n",
            "[codecarbon INFO @ 00:13:46] Energy consumed for all CPUs : 0.000354 kWh. Total CPU Power : 42.5 W\n",
            "[codecarbon INFO @ 00:13:46] 0.000649 kWh of electricity used since the beginning.\n",
            "[codecarbon INFO @ 00:14:01] Energy consumed for RAM : 0.000059 kWh. RAM Power : 4.753040313720703 W\n",
            "[codecarbon INFO @ 00:14:01] Energy consumed for all GPUs : 0.000384 kWh. Total GPU Power : 30.803599045044923 W\n",
            "[codecarbon INFO @ 00:14:01] Energy consumed for all CPUs : 0.000531 kWh. Total CPU Power : 42.5 W\n",
            "[codecarbon INFO @ 00:14:01] 0.000974 kWh of electricity used since the beginning.\n",
            "[codecarbon INFO @ 00:14:16] Energy consumed for RAM : 0.000079 kWh. RAM Power : 4.753040313720703 W\n",
            "[codecarbon INFO @ 00:14:16] Energy consumed for all GPUs : 0.000513 kWh. Total GPU Power : 31.007532829697414 W\n",
            "[codecarbon INFO @ 00:14:16] Energy consumed for all CPUs : 0.000708 kWh. Total CPU Power : 42.5 W\n",
            "[codecarbon INFO @ 00:14:16] 0.001300 kWh of electricity used since the beginning.\n"
          ]
        },
        {
          "output_type": "stream",
          "name": "stdout",
          "text": [
            "313/313 [==============================] - 1s 2ms/step\n"
          ]
        },
        {
          "output_type": "stream",
          "name": "stderr",
          "text": [
            "[codecarbon INFO @ 00:14:30] Energy consumed for RAM : 0.000098 kWh. RAM Power : 4.753040313720703 W\n",
            "[codecarbon INFO @ 00:14:30] Energy consumed for all GPUs : 0.000634 kWh. Total GPU Power : 30.856933297284858 W\n",
            "[codecarbon INFO @ 00:14:30] Energy consumed for all CPUs : 0.000876 kWh. Total CPU Power : 42.5 W\n",
            "[codecarbon INFO @ 00:14:30] 0.001608 kWh of electricity used since the beginning.\n",
            "[codecarbon WARNING @ 00:14:30] Invalid gpu_ids format. Expected a string or a list of ints.\n",
            "[codecarbon INFO @ 00:14:30] [setup] RAM Tracking...\n",
            "[codecarbon INFO @ 00:14:30] [setup] GPU Tracking...\n",
            "[codecarbon INFO @ 00:14:30] Tracking Nvidia GPU via pynvml\n",
            "[codecarbon INFO @ 00:14:30] [setup] CPU Tracking...\n",
            "[codecarbon WARNING @ 00:14:30] No CPU tracking mode found. Falling back on CPU constant mode.\n"
          ]
        },
        {
          "output_type": "stream",
          "name": "stdout",
          "text": [
            "\t conf: [128, 64, 32], \n",
            "\t\t Emissions: 0.000569659255692689 gCO2/kWh,\n",
            "\t\t test acc:0.9756\n",
            "model.count_params(): 220186\n"
          ]
        },
        {
          "output_type": "stream",
          "name": "stderr",
          "text": [
            "[codecarbon WARNING @ 00:14:32] We saw that you have a Intel(R) Xeon(R) CPU @ 2.00GHz but we don't know it. Please contact us.\n",
            "[codecarbon INFO @ 00:14:32] CPU Model on constant consumption mode: Intel(R) Xeon(R) CPU @ 2.00GHz\n",
            "[codecarbon INFO @ 00:14:32] >>> Tracker's metadata:\n",
            "[codecarbon INFO @ 00:14:32]   Platform system: Linux-6.1.85+-x86_64-with-glibc2.35\n",
            "[codecarbon INFO @ 00:14:32]   Python version: 3.10.12\n",
            "[codecarbon INFO @ 00:14:32]   CodeCarbon version: 2.4.2\n",
            "[codecarbon INFO @ 00:14:32]   Available RAM : 12.675 GB\n",
            "[codecarbon INFO @ 00:14:32]   CPU count: 2\n",
            "[codecarbon INFO @ 00:14:32]   CPU model: Intel(R) Xeon(R) CPU @ 2.00GHz\n",
            "[codecarbon INFO @ 00:14:32]   GPU count: 1\n",
            "[codecarbon INFO @ 00:14:32]   GPU model: 1 x Tesla T4\n",
            "[codecarbon INFO @ 00:14:47] Energy consumed for RAM : 0.000020 kWh. RAM Power : 4.753040313720703 W\n",
            "[codecarbon INFO @ 00:14:47] Energy consumed for all GPUs : 0.000132 kWh. Total GPU Power : 31.574628899852055 W\n",
            "[codecarbon INFO @ 00:14:47] Energy consumed for all CPUs : 0.000177 kWh. Total CPU Power : 42.5 W\n",
            "[codecarbon INFO @ 00:14:47] 0.000329 kWh of electricity used since the beginning.\n",
            "[codecarbon INFO @ 00:15:02] Energy consumed for RAM : 0.000040 kWh. RAM Power : 4.753040313720703 W\n",
            "[codecarbon INFO @ 00:15:02] Energy consumed for all GPUs : 0.000264 kWh. Total GPU Power : 31.70674895399115 W\n",
            "[codecarbon INFO @ 00:15:02] Energy consumed for all CPUs : 0.000354 kWh. Total CPU Power : 42.5 W\n",
            "[codecarbon INFO @ 00:15:02] 0.000657 kWh of electricity used since the beginning.\n",
            "[codecarbon INFO @ 00:15:17] Energy consumed for RAM : 0.000059 kWh. RAM Power : 4.753040313720703 W\n",
            "[codecarbon INFO @ 00:15:17] Energy consumed for all GPUs : 0.000397 kWh. Total GPU Power : 31.99469148878254 W\n",
            "[codecarbon INFO @ 00:15:17] Energy consumed for all CPUs : 0.000531 kWh. Total CPU Power : 42.5 W\n",
            "[codecarbon INFO @ 00:15:17] 0.000988 kWh of electricity used since the beginning.\n",
            "[codecarbon INFO @ 00:15:32] Energy consumed for RAM : 0.000079 kWh. RAM Power : 4.753040313720703 W\n",
            "[codecarbon INFO @ 00:15:32] Energy consumed for all GPUs : 0.000529 kWh. Total GPU Power : 31.820261935571555 W\n",
            "[codecarbon INFO @ 00:15:32] Energy consumed for all CPUs : 0.000708 kWh. Total CPU Power : 42.5 W\n",
            "[codecarbon INFO @ 00:15:32] 0.001317 kWh of electricity used since the beginning.\n",
            "[codecarbon INFO @ 00:15:47] Energy consumed for RAM : 0.000099 kWh. RAM Power : 4.753040313720703 W\n",
            "[codecarbon INFO @ 00:15:47] Energy consumed for all GPUs : 0.000663 kWh. Total GPU Power : 32.04856512555954 W\n",
            "[codecarbon INFO @ 00:15:47] Energy consumed for all CPUs : 0.000886 kWh. Total CPU Power : 42.5 W\n",
            "[codecarbon INFO @ 00:15:47] 0.001647 kWh of electricity used since the beginning.\n"
          ]
        },
        {
          "output_type": "stream",
          "name": "stdout",
          "text": [
            "313/313 [==============================] - 1s 2ms/step\n"
          ]
        },
        {
          "output_type": "stream",
          "name": "stderr",
          "text": [
            "[codecarbon INFO @ 00:15:56] Energy consumed for RAM : 0.000111 kWh. RAM Power : 4.753040313720703 W\n",
            "[codecarbon INFO @ 00:15:56] Energy consumed for all GPUs : 0.000744 kWh. Total GPU Power : 30.93375113277002 W\n",
            "[codecarbon INFO @ 00:15:56] Energy consumed for all CPUs : 0.000997 kWh. Total CPU Power : 42.5 W\n",
            "[codecarbon INFO @ 00:15:56] 0.001852 kWh of electricity used since the beginning.\n",
            "[codecarbon WARNING @ 00:15:56] Invalid gpu_ids format. Expected a string or a list of ints.\n",
            "[codecarbon INFO @ 00:15:56] [setup] RAM Tracking...\n",
            "[codecarbon INFO @ 00:15:56] [setup] GPU Tracking...\n",
            "[codecarbon INFO @ 00:15:56] Tracking Nvidia GPU via pynvml\n",
            "[codecarbon INFO @ 00:15:56] [setup] CPU Tracking...\n",
            "[codecarbon WARNING @ 00:15:56] No CPU tracking mode found. Falling back on CPU constant mode.\n"
          ]
        },
        {
          "output_type": "stream",
          "name": "stdout",
          "text": [
            "\t conf: [256, 64, 32, 16], \n",
            "\t\t Emissions: 0.0006560635778432746 gCO2/kWh,\n",
            "\t\t test acc:0.9784\n",
            "model.count_params(): 244522\n"
          ]
        },
        {
          "output_type": "stream",
          "name": "stderr",
          "text": [
            "[codecarbon WARNING @ 00:15:57] We saw that you have a Intel(R) Xeon(R) CPU @ 2.00GHz but we don't know it. Please contact us.\n",
            "[codecarbon INFO @ 00:15:57] CPU Model on constant consumption mode: Intel(R) Xeon(R) CPU @ 2.00GHz\n",
            "[codecarbon INFO @ 00:15:57] >>> Tracker's metadata:\n",
            "[codecarbon INFO @ 00:15:57]   Platform system: Linux-6.1.85+-x86_64-with-glibc2.35\n",
            "[codecarbon INFO @ 00:15:57]   Python version: 3.10.12\n",
            "[codecarbon INFO @ 00:15:57]   CodeCarbon version: 2.4.2\n",
            "[codecarbon INFO @ 00:15:57]   Available RAM : 12.675 GB\n",
            "[codecarbon INFO @ 00:15:57]   CPU count: 2\n",
            "[codecarbon INFO @ 00:15:57]   CPU model: Intel(R) Xeon(R) CPU @ 2.00GHz\n",
            "[codecarbon INFO @ 00:15:57]   GPU count: 1\n",
            "[codecarbon INFO @ 00:15:57]   GPU model: 1 x Tesla T4\n",
            "[codecarbon INFO @ 00:16:13] Energy consumed for RAM : 0.000020 kWh. RAM Power : 4.753040313720703 W\n",
            "[codecarbon INFO @ 00:16:13] Energy consumed for all GPUs : 0.000134 kWh. Total GPU Power : 32.105489560780136 W\n",
            "[codecarbon INFO @ 00:16:13] Energy consumed for all CPUs : 0.000177 kWh. Total CPU Power : 42.5 W\n",
            "[codecarbon INFO @ 00:16:13] 0.000331 kWh of electricity used since the beginning.\n",
            "[codecarbon INFO @ 00:16:28] Energy consumed for RAM : 0.000040 kWh. RAM Power : 4.753040313720703 W\n",
            "[codecarbon INFO @ 00:16:28] Energy consumed for all GPUs : 0.000268 kWh. Total GPU Power : 32.22395338177047 W\n",
            "[codecarbon INFO @ 00:16:28] Energy consumed for all CPUs : 0.000355 kWh. Total CPU Power : 42.5 W\n",
            "[codecarbon INFO @ 00:16:28] 0.000662 kWh of electricity used since the beginning.\n",
            "[codecarbon INFO @ 00:16:43] Energy consumed for RAM : 0.000059 kWh. RAM Power : 4.753040313720703 W\n",
            "[codecarbon INFO @ 00:16:43] Energy consumed for all GPUs : 0.000404 kWh. Total GPU Power : 32.59452374375461 W\n",
            "[codecarbon INFO @ 00:16:43] Energy consumed for all CPUs : 0.000531 kWh. Total CPU Power : 42.5 W\n",
            "[codecarbon INFO @ 00:16:43] 0.000994 kWh of electricity used since the beginning.\n",
            "[codecarbon INFO @ 00:16:58] Energy consumed for RAM : 0.000079 kWh. RAM Power : 4.753040313720703 W\n",
            "[codecarbon INFO @ 00:16:58] Energy consumed for all GPUs : 0.000539 kWh. Total GPU Power : 32.45514595017083 W\n",
            "[codecarbon INFO @ 00:16:58] Energy consumed for all CPUs : 0.000708 kWh. Total CPU Power : 42.5 W\n",
            "[codecarbon INFO @ 00:16:58] 0.001326 kWh of electricity used since the beginning.\n",
            "[codecarbon INFO @ 00:17:13] Energy consumed for RAM : 0.000099 kWh. RAM Power : 4.753040313720703 W\n",
            "[codecarbon INFO @ 00:17:13] Energy consumed for all GPUs : 0.000675 kWh. Total GPU Power : 32.695835542552835 W\n",
            "[codecarbon INFO @ 00:17:13] Energy consumed for all CPUs : 0.000885 kWh. Total CPU Power : 42.5 W\n",
            "[codecarbon INFO @ 00:17:13] 0.001659 kWh of electricity used since the beginning.\n"
          ]
        },
        {
          "output_type": "stream",
          "name": "stdout",
          "text": [
            "313/313 [==============================] - 1s 2ms/step\n"
          ]
        },
        {
          "output_type": "stream",
          "name": "stderr",
          "text": [
            "[codecarbon INFO @ 00:17:16] Energy consumed for RAM : 0.000103 kWh. RAM Power : 4.753040313720703 W\n",
            "[codecarbon INFO @ 00:17:16] Energy consumed for all GPUs : 0.000703 kWh. Total GPU Power : 31.866732836097963 W\n",
            "[codecarbon INFO @ 00:17:16] Energy consumed for all CPUs : 0.000923 kWh. Total CPU Power : 42.5 W\n",
            "[codecarbon INFO @ 00:17:16] 0.001729 kWh of electricity used since the beginning.\n"
          ]
        },
        {
          "output_type": "stream",
          "name": "stdout",
          "text": [
            "\t conf: [256, 128, 64, 32], \n",
            "\t\t Emissions: 0.0006124617414289156 gCO2/kWh,\n",
            "\t\t test acc:0.9792\n"
          ]
        }
      ],
      "source": [
        "from sklearn.metrics import accuracy_score\n",
        "from codecarbon import EmissionsTracker\n",
        "\n",
        "emissions = []\n",
        "accuracy = []\n",
        "# from less to more complex configs\n",
        "configs = [\n",
        "   [16, 16],\n",
        "   [32, 32],\n",
        "   [64, 64],\n",
        "   [128, 32, 16],\n",
        "   [128, 64, 32],\n",
        "   [256, 64, 32, 16],\n",
        "   [256, 128, 64, 32]\n",
        "]\n",
        "batch_size = 256\n",
        "epochs = 100\n",
        "for conf in configs:\n",
        "    model = build_model(conf)\n",
        "    tracker = EmissionsTracker()\n",
        "    tracker.start()\n",
        "    model.fit(X_train, y_train,\n",
        "                        epochs=epochs,\n",
        "                        batch_size = batch_size,\n",
        "                        verbose = 0)\n",
        "\n",
        "\n",
        "\n",
        "    pred = np.argmax(model.predict(X_test), axis=1)\n",
        "    tmp_emiss = tracker.stop()\n",
        "    emissions.append(tmp_emiss)\n",
        "    temp_acc = accuracy_score(y_test, pred)\n",
        "    accuracy.append(temp_acc)\n",
        "    print(f\"\\t conf: {conf}, \\n\\t\\t Emissions: {tmp_emiss} gCO2/kWh,\\n\\t\\t test acc:{temp_acc}\")\n",
        "\n"
      ]
    },
    {
      "cell_type": "markdown",
      "metadata": {
        "id": "eW3nh9Y2Ky-o"
      },
      "source": [
        "# **Visualizing the results**\n",
        "* ## We see that for more complex models, the large increase in emissions does not pay off (too small accuracy increase)"
      ]
    },
    {
      "cell_type": "code",
      "execution_count": null,
      "metadata": {
        "colab": {
          "base_uri": "https://localhost:8080/",
          "height": 881
        },
        "id": "8NANxoORKy-p",
        "outputId": "7e894471-5998-47f4-fbe2-4ef5df5b85ce"
      },
      "outputs": [
        {
          "output_type": "display_data",
          "data": {
            "text/plain": [
              "<Figure size 640x480 with 2 Axes>"
            ],
            "image/png": "[encoded data removed]"
          },
          "metadata": {}
        },
        {
          "output_type": "display_data",
          "data": {
            "text/plain": [
              "<Figure size 640x480 with 1 Axes>"
            ],
            "image/png": "[encoded data removed]"
          },
          "metadata": {}
        }
      ],
      "source": [
        "import matplotlib.pyplot as plt\n",
        "\n",
        "accuracy = np.array(accuracy)\n",
        "emissions = np.array(emissions)\n",
        "x_values1 = np.arange(len(configs))\n",
        "y_values1 = accuracy\n",
        "\n",
        "x_values2 = x_values1\n",
        "y_values2 = emissions\n",
        "\n",
        "\n",
        "\n",
        "fig=plt.figure()\n",
        "ax=fig.add_subplot(111, label=\"1\")\n",
        "ax2=fig.add_subplot(111, label=\"2\", frame_on=False)\n",
        "#ax3=fig.add_subplot(111, label=\"3\", frame_on=False)\n",
        "\n",
        "ax.plot(x_values1, y_values1, color=\"C0\")\n",
        "ax.set_xlabel(\"model\", color=\"C0\")\n",
        "ax.set_ylabel(\"Accuracy\", color=\"C0\")\n",
        "ax.tick_params(axis='x', colors=\"C0\")\n",
        "ax.tick_params(axis='y', colors=\"C0\")\n",
        "\n",
        "ax2.plot(x_values2, y_values2, color=\"C1\")\n",
        "#ax2.xaxis.tick_top()\n",
        "ax2.yaxis.tick_right()\n",
        "ax2.set_xlabel('Model', color=\"C1\")\n",
        "ax2.set_ylabel('Emissions g CO2/kWh', color=\"C1\")\n",
        "#ax2.xaxis.set_label_position('top')\n",
        "ax2.yaxis.set_label_position('right')\n",
        "ax2.tick_params(axis='x', colors=\"C1\")\n",
        "ax2.tick_params(axis='y', colors=\"C1\")\n",
        "\n",
        "plt.show()\n",
        "x_values3 = accuracy\n",
        "y_values3 = emissions\n",
        "\n",
        "fig2=plt.figure()\n",
        "ax3 = fig2.add_subplot(111, label=\"3\")\n",
        "ax3.scatter(x_values3, y_values3, color=\"C3\")\n",
        "ax3.set_xlabel(\"Accuracy\", color=\"C0\")\n",
        "ax3.set_ylabel(\"Emissions g CO2/kWh\", color=\"C0\")\n",
        "ax3.tick_params(axis='x', colors=\"C0\")\n",
        "ax3.tick_params(axis='y', colors=\"C0\")\n",
        "\n",
        "plt.show()"
      ]
    },
    {
      "cell_type": "markdown",
      "metadata": {
        "id": "1PHokOCOKy-p"
      },
      "source": [
        "# The Accuracy-Emissions plot shows the region in the bottom-right corner of highest efficiency\n",
        "* ## Se for instance\n",
        ">>  #### A. E. I. Brownlee, J. Adair, S. O. Haraldsson and J. Jabbo, \"Exploring the Accuracy – Energy Trade-off in Machine Learning,\" 2021 IEEE/ACM International Workshop on Genetic Improvement (GI), Madrid, Spain, 2021, pp. 11-18, doi: 10.1109/GI52543.2021.00011."
      ]
    },
    {
      "cell_type": "markdown",
      "metadata": {
        "id": "4eK5ja4uKy-q"
      },
      "source": []
    }
  ],
  "metadata": {
    "accelerator": "GPU",
    "colab": {
      "gpuType": "T4",
      "provenance": []
    },
    "kernelspec": {
      "display_name": "Python 3",
      "name": "python3"
    },
    "language_info": {
      "codemirror_mode": {
        "name": "ipython",
        "version": 3
      },
      "file_extension": ".py",
      "mimetype": "text/x-python",
      "name": "python",
      "nbconvert_exporter": "python",
      "pygments_lexer": "ipython3",
      "version": "3.8.13"
    }
  },
  "nbformat": 4,
  "nbformat_minor": 0
}