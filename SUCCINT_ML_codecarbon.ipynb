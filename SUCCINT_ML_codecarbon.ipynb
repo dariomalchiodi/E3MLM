{
  "cells": [
    {
      "cell_type": "markdown",
      "metadata": {
        "id": "0eoPHuWz4qRs"
      },
      "source": [
        "# **Installing codecarbon From PyPi repository**\n",
        "* ## see [docs](https://mlco2.github.io/codecarbon/installation.html) for further details"
      ]
    },
    {
      "cell_type": "code",
      "execution_count": 1,
      "metadata": {
        "colab": {
          "base_uri": "https://localhost:8080/"
        },
        "id": "PrjMKy9YQ6BR",
        "outputId": "b00d3bf0-abfe-4d93-8d0d-146c3eaf3d85"
      },
      "outputs": [
        {
          "output_type": "stream",
          "name": "stdout",
          "text": [
            "Collecting Codecarbon\n",
            "  Downloading codecarbon-2.4.2-py3-none-any.whl (494 kB)\n",
            "\u001b[2K     \u001b[90m━━━━━━━━━━━━━━━━━━━━━━━━━━━━━━━━━━━━━━━━\u001b[0m \u001b[32m494.9/494.9 kB\u001b[0m \u001b[31m4.6 MB/s\u001b[0m eta \u001b[36m0:00:00\u001b[0m\n",
            "\u001b[?25hCollecting arrow (from Codecarbon)\n",
            "  Downloading arrow-1.3.0-py3-none-any.whl (66 kB)\n",
            "\u001b[2K     \u001b[90m━━━━━━━━━━━━━━━━━━━━━━━━━━━━━━━━━━━━━━━━\u001b[0m \u001b[32m66.4/66.4 kB\u001b[0m \u001b[31m5.2 MB/s\u001b[0m eta \u001b[36m0:00:00\u001b[0m\n",
            "\u001b[?25hRequirement already satisfied: click in /usr/local/lib/python3.10/dist-packages (from Codecarbon) (8.1.7)\n",
            "Requirement already satisfied: pandas in /usr/local/lib/python3.10/dist-packages (from Codecarbon) (2.0.3)\n",
            "Requirement already satisfied: prometheus-client in /usr/local/lib/python3.10/dist-packages (from Codecarbon) (0.20.0)\n",
            "Requirement already satisfied: psutil in /usr/local/lib/python3.10/dist-packages (from Codecarbon) (5.9.5)\n",
            "Requirement already satisfied: py-cpuinfo in /usr/local/lib/python3.10/dist-packages (from Codecarbon) (9.0.0)\n",
            "Collecting pynvml (from Codecarbon)\n",
            "  Downloading pynvml-11.5.0-py3-none-any.whl (53 kB)\n",
            "\u001b[2K     \u001b[90m━━━━━━━━━━━━━━━━━━━━━━━━━━━━━━━━━━━━━━━━\u001b[0m \u001b[32m53.1/53.1 kB\u001b[0m \u001b[31m2.5 MB/s\u001b[0m eta \u001b[36m0:00:00\u001b[0m\n",
            "\u001b[?25hCollecting rapidfuzz (from Codecarbon)\n",
            "  Downloading rapidfuzz-3.9.3-cp310-cp310-manylinux_2_17_x86_64.manylinux2014_x86_64.whl (3.4 MB)\n",
            "\u001b[2K     \u001b[90m━━━━━━━━━━━━━━━━━━━━━━━━━━━━━━━━━━━━━━━━\u001b[0m \u001b[32m3.4/3.4 MB\u001b[0m \u001b[31m10.8 MB/s\u001b[0m eta \u001b[36m0:00:00\u001b[0m\n",
            "\u001b[?25hRequirement already satisfied: requests in /usr/local/lib/python3.10/dist-packages (from Codecarbon) (2.31.0)\n",
            "Requirement already satisfied: python-dateutil>=2.7.0 in /usr/local/lib/python3.10/dist-packages (from arrow->Codecarbon) (2.8.2)\n",
            "Collecting types-python-dateutil>=2.8.10 (from arrow->Codecarbon)\n",
            "  Downloading types_python_dateutil-2.9.0.20240316-py3-none-any.whl (9.7 kB)\n",
            "Requirement already satisfied: pytz>=2020.1 in /usr/local/lib/python3.10/dist-packages (from pandas->Codecarbon) (2023.4)\n",
            "Requirement already satisfied: tzdata>=2022.1 in /usr/local/lib/python3.10/dist-packages (from pandas->Codecarbon) (2024.1)\n",
            "Requirement already satisfied: numpy>=1.21.0 in /usr/local/lib/python3.10/dist-packages (from pandas->Codecarbon) (1.25.2)\n",
            "Requirement already satisfied: charset-normalizer<4,>=2 in /usr/local/lib/python3.10/dist-packages (from requests->Codecarbon) (3.3.2)\n",
            "Requirement already satisfied: idna<4,>=2.5 in /usr/local/lib/python3.10/dist-packages (from requests->Codecarbon) (3.7)\n",
            "Requirement already satisfied: urllib3<3,>=1.21.1 in /usr/local/lib/python3.10/dist-packages (from requests->Codecarbon) (2.0.7)\n",
            "Requirement already satisfied: certifi>=2017.4.17 in /usr/local/lib/python3.10/dist-packages (from requests->Codecarbon) (2024.6.2)\n",
            "Requirement already satisfied: six>=1.5 in /usr/local/lib/python3.10/dist-packages (from python-dateutil>=2.7.0->arrow->Codecarbon) (1.16.0)\n",
            "Installing collected packages: types-python-dateutil, rapidfuzz, pynvml, arrow, Codecarbon\n",
            "Successfully installed Codecarbon-2.4.2 arrow-1.3.0 pynvml-11.5.0 rapidfuzz-3.9.3 types-python-dateutil-2.9.0.20240316\n"
          ]
        }
      ],
      "source": [
        "!pip install Codecarbon"
      ]
    },
    {
      "cell_type": "markdown",
      "metadata": {
        "id": "3CjOqnjG4qR1"
      },
      "source": [
        "# **Tracking the $CO_2$ emissions**\n",
        " * ## It supports both online (with internet access) and offline (without internet access) modes\n",
        " * ## The object ```EmissionsTracker``` is used for online tracking\n",
        " * ## The object ```OfflineEmissionsTracker``` instead for offline traking\n",
        "    * ### in this case a ```country_iso_code``` parameter must be specified\n",
        "    * ### It orresponds to the 3-letter alphabet ISO Code of the country where the compute infrastructure is hosted\n",
        "    * ### Needed to fetch Carbon Intensity details of the regional electricity used\n",
        "    * ### See [here](https://en.wikipedia.org/wiki/List_of_ISO_3166_country_codes) for a complete list of country ISO codes\n",
        ">> #### ```from codecarbon import OfflineEmissionsTracker```\n",
        ">> #### ```tracker = OfflineEmissionsTracker(country_iso_code=\"ITA\")```    "
      ]
    },
    {
      "cell_type": "markdown",
      "metadata": {
        "id": "rBXTexJf4qR2"
      },
      "source": [
        "# Once intanstiated the OfflineEmissionTracker, it already provides for us info about:\n",
        " * ## The operative system platform\n",
        " * ## The Ptython and CodeCarbon version\n",
        " * ## The avaialble RAM, CPU and GPU count, and the relative type\n",
        "\n",
        "# To start the tracker we need to run the ```start()``` method, ```stop()``` instead to end the tracking\n",
        ">> #### ```tracker.start()```\n",
        ">>> #HERE THE CODE TO TRACK\n",
        ">> #### ```tracker.stop()```"
      ]
    },
    {
      "cell_type": "markdown",
      "metadata": {
        "id": "4S-8h4ea4qR3"
      },
      "source": [
        "# Some configurations are available to track only some device consumption (see docs)"
      ]
    },
    {
      "cell_type": "markdown",
      "metadata": {
        "id": "LPWoAk9b4qR3"
      },
      "source": [
        "# **EXAMPLE**\n",
        "## Train a Deep Learning model on MNIST Data to recognize digits in images using TensorFlow Keras"
      ]
    },
    {
      "cell_type": "code",
      "execution_count": null,
      "metadata": {
        "colab": {
          "base_uri": "https://localhost:8080/"
        },
        "id": "Ola-OCm8P836",
        "outputId": "01f2cde8-970e-4853-dddb-8872dd0ae5d4"
      },
      "outputs": [
        {
          "name": "stdout",
          "output_type": "stream",
          "text": [
            "X_train.shape:(60000, 28, 28), X_train type :<class 'numpy.ndarray'>\n",
            "X_test.shape:(10000, 28, 28), X_test type :<class 'numpy.ndarray'>\n",
            "Number of classes classes:10\n"
          ]
        }
      ],
      "source": [
        "import sys\n",
        "from keras.datasets import mnist\n",
        "import tensorflow as tf\n",
        "from tensorflow.keras.models import Sequential\n",
        "from tensorflow.keras.layers import Dense\n",
        "import numpy as np\n",
        "np.random.seed(42)  # for reproducibility\n",
        "tf.random.set_seed(42)\n",
        "\n",
        "(X_train, y_train), (X_test, y_test) = mnist.load_data()\n",
        "print(f\"X_train.shape:{X_train.shape}, X_train type :{type(X_train)}\")\n",
        "print(f\"X_test.shape:{X_test.shape}, X_test type :{type(X_test)}\")\n",
        "num_classes = len(np.unique(y_train))\n",
        "print(f\"Number of classes classes:{num_classes}\")"
      ]
    },
    {
      "cell_type": "markdown",
      "metadata": {
        "id": "jB4HwVwnSxrv"
      },
      "source": [
        "# We have 60000 samples in our training set belonging to 10 classes\n",
        " * ### The images are 28 pixels x 28 pixels each\n"
      ]
    },
    {
      "cell_type": "code",
      "execution_count": null,
      "metadata": {
        "id": "VXiyeJcuRAbK"
      },
      "outputs": [],
      "source": [
        "# Normalizing in [0,1]\n",
        "X_train = X_train/255.0\n",
        "X_test = X_test/255.0"
      ]
    },
    {
      "cell_type": "markdown",
      "metadata": {
        "id": "xxjaXQiLRyYn"
      },
      "source": [
        "# Keras models accept three types of inputs:\n",
        " * ### **NumPy arrays**, just like Scikit-Learn\n",
        " * ### **TensorFlow Dataset objects**\n",
        " * ### **Python generators** that yield batches of data\n",
        "\n",
        "# Let's build a MLP in Keras\n",
        " * ## ```Sequential``` represent the feed-forward models, ```Dense``` a fully-connected layer"
      ]
    },
    {
      "cell_type": "markdown",
      "metadata": {
        "id": "RzHMFIbpTfjZ"
      },
      "source": [
        "# MLP takes vectors as inputs\n",
        "# How to make images into MLP input?\n",
        "  * ### Simply, we vectorize them using the `reshape()` method"
      ]
    },
    {
      "cell_type": "code",
      "execution_count": null,
      "metadata": {
        "colab": {
          "base_uri": "https://localhost:8080/"
        },
        "id": "398xOxb1TiIV",
        "outputId": "a0719d11-1a2b-4cf6-aa59-2d95ed47dc59"
      },
      "outputs": [
        {
          "name": "stdout",
          "output_type": "stream",
          "text": [
            "X_train.shape:(60000, 784)\n",
            "X_train.dtype:float64\n"
          ]
        },
        {
          "name": "stdout",
          "output_type": "stream",
          "text": [
            "X_train.dtype:float32\n"
          ]
        }
      ],
      "source": [
        "# reshaping all the training, testing dataset, by removing one dimension\n",
        "X_train = X_train.reshape(-1, 28*28)\n",
        "print(f\"X_train.shape:{X_train.shape}\")\n",
        "X_test = X_test.reshape(-1, 28*28)\n",
        "# keras models need float32 inputs\n",
        "print(f\"X_train.dtype:{X_train.dtype}\")\n",
        "X_train = X_train.astype('float32')\n",
        "print(f\"X_train.dtype:{X_train.dtype}\")\n",
        "X_test = X_test.astype('float32')"
      ]
    },
    {
      "cell_type": "markdown",
      "metadata": {
        "id": "OcnpamSu4qR8"
      },
      "source": [
        "# **CREATING THE MODEL**"
      ]
    },
    {
      "cell_type": "code",
      "execution_count": null,
      "metadata": {
        "id": "Zo77jOJNUTQx"
      },
      "outputs": [],
      "source": [
        "# hidden_units, list of integeres, where hidden_units[i] is the number of units\n",
        "#  to use in the i-th hidden FC layer\n",
        "def build_model(hidden_units):\n",
        "    if len(hidden_units)<=1:\n",
        "        sys.exit(\"At least one hidden layer is necessary. len(hidden_units) must be greater that 0\")\n",
        "    model = Sequential()\n",
        "    model.add(Dense(hidden_units[0], input_shape=(28*28,), activation='sigmoid'))\n",
        "    # possible other hiddens layers\n",
        "    for i in range(1,len(hidden_units)):\n",
        "        model.add(Dense(hidden_units[i], activation='sigmoid'))\n",
        "\n",
        "    # output layer\n",
        "    model.add(Dense(num_classes, activation='softmax'))\n",
        "    print(f\"model.count_params(): {model.count_params()}\")\n",
        "    # compiling the model\n",
        "    model.compile(optimizer=tf.keras.optimizers.Adam(learning_rate=0.005), # type of gradient descent procedure\n",
        "                loss='sparse_categorical_crossentropy',\n",
        "                metrics=['accuracy'])\n",
        "    return model"
      ]
    },
    {
      "cell_type": "markdown",
      "metadata": {
        "id": "vksrX0whUaIU"
      },
      "source": [
        "# **Fitting models and estimate the carbon footprint**\n",
        "*  ## For just for a few epochs as an example\n",
        "*  ## Testing models of different complexity to evalaute the tradeoff accuracy/emissions\n",
        "*  ## The tracker object returns just the total amount of emissions\n",
        "   * ### however, the package has an in-built logger that logs data into a CSV file named ```emissions.csv``` in the output_dir, provided as an input parameter (defaults to the current directory), for each experiment tracked across projects\n",
        "   * ### The data stored are the following:\n",
        "   >> ### timestamp,project_name,run_id,duration,emissions,emissions_rate,cpu_power,\n",
        "   >> ###  gpu_power,ram_power,cpu_energy,gpu_energy,ram_energy,energy_consumed,country_name,country_iso_code,region,\n",
        "   >> ###  cloud_provider,cloud_region,os,python_version,codecarbon_version,cpu_count,cpu_model,gpu_count,gpu_model,\n",
        "   >> ###  longitude,latitude,ram_total_size,tracking_mode,on_cloud,pue\n"
      ]
    },
    {
      "cell_type": "markdown",
      "source": [
        "# Let's try different models with increasing size and compute both their perormance and their energy consumption"
      ],
      "metadata": {
        "id": "fWfCSdLw8suF"
      }
    },
    {
      "cell_type": "code",
      "execution_count": null,
      "metadata": {
        "colab": {
          "base_uri": "https://localhost:8080/"
        },
        "id": "NUuiXUEuV7KJ",
        "outputId": "77681c73-7ddc-4186-f946-1f0f69089698"
      },
      "outputs": [
        {
          "name": "stderr",
          "output_type": "stream",
          "text": [
            "2024-06-08 01:53:40.718261: I tensorflow/stream_executor/platform/default/dso_loader.cc:44] Successfully opened dynamic library libcuda.so.1\n",
            "2024-06-08 01:53:40.757127: I tensorflow/stream_executor/cuda/cuda_gpu_executor.cc:981] successful NUMA node read from SysFS had negative value (-1), but there must be at least one NUMA node, so returning NUMA node zero\n",
            "2024-06-08 01:53:40.757553: I tensorflow/core/common_runtime/gpu/gpu_device.cc:1561] Found device 0 with properties: \n",
            "pciBusID: 0000:02:00.0 name: NVIDIA GeForce GTX 1650 with Max-Q Design computeCapability: 7.5\n",
            "coreClock: 1.245GHz coreCount: 16 deviceMemorySize: 3.82GiB deviceMemoryBandwidth: 104.34GiB/s\n",
            "2024-06-08 01:53:40.757785: I tensorflow/stream_executor/platform/default/dso_loader.cc:44] Successfully opened dynamic library libcudart.so.10.1\n",
            "2024-06-08 01:53:40.759669: I tensorflow/stream_executor/platform/default/dso_loader.cc:44] Successfully opened dynamic library libcublas.so.10\n",
            "2024-06-08 01:53:40.761750: I tensorflow/stream_executor/platform/default/dso_loader.cc:44] Successfully opened dynamic library libcufft.so.10\n",
            "2024-06-08 01:53:40.762080: I tensorflow/stream_executor/platform/default/dso_loader.cc:44] Successfully opened dynamic library libcurand.so.10\n",
            "2024-06-08 01:53:40.764096: I tensorflow/stream_executor/platform/default/dso_loader.cc:44] Successfully opened dynamic library libcusolver.so.10\n",
            "2024-06-08 01:53:40.765421: I tensorflow/stream_executor/platform/default/dso_loader.cc:44] Successfully opened dynamic library libcusparse.so.10\n",
            "2024-06-08 01:53:40.770226: I tensorflow/stream_executor/platform/default/dso_loader.cc:44] Successfully opened dynamic library libcudnn.so.7\n",
            "2024-06-08 01:53:40.770460: I tensorflow/stream_executor/cuda/cuda_gpu_executor.cc:981] successful NUMA node read from SysFS had negative value (-1), but there must be at least one NUMA node, so returning NUMA node zero\n",
            "2024-06-08 01:53:40.771048: I tensorflow/stream_executor/cuda/cuda_gpu_executor.cc:981] successful NUMA node read from SysFS had negative value (-1), but there must be at least one NUMA node, so returning NUMA node zero\n",
            "2024-06-08 01:53:40.771313: I tensorflow/core/common_runtime/gpu/gpu_device.cc:1703] Adding visible gpu devices: 0\n",
            "2024-06-08 01:53:40.772016: I tensorflow/core/platform/cpu_feature_guard.cc:143] Your CPU supports instructions that this TensorFlow binary was not compiled to use: AVX2 FMA\n",
            "2024-06-08 01:53:40.801198: I tensorflow/core/platform/profile_utils/cpu_utils.cc:102] CPU Frequency: 2299965000 Hz\n",
            "2024-06-08 01:53:40.801706: I tensorflow/compiler/xla/service/service.cc:168] XLA service 0x7f416c000b60 initialized for platform Host (this does not guarantee that XLA will be used). Devices:\n",
            "2024-06-08 01:53:40.801724: I tensorflow/compiler/xla/service/service.cc:176]   StreamExecutor device (0): Host, Default Version\n",
            "2024-06-08 01:53:40.881246: I tensorflow/stream_executor/cuda/cuda_gpu_executor.cc:981] successful NUMA node read from SysFS had negative value (-1), but there must be at least one NUMA node, so returning NUMA node zero\n",
            "2024-06-08 01:53:40.881642: I tensorflow/compiler/xla/service/service.cc:168] XLA service 0x55e4534e6de0 initialized for platform CUDA (this does not guarantee that XLA will be used). Devices:\n",
            "2024-06-08 01:53:40.881661: I tensorflow/compiler/xla/service/service.cc:176]   StreamExecutor device (0): NVIDIA GeForce GTX 1650 with Max-Q Design, Compute Capability 7.5\n",
            "2024-06-08 01:53:40.881915: I tensorflow/stream_executor/cuda/cuda_gpu_executor.cc:981] successful NUMA node read from SysFS had negative value (-1), but there must be at least one NUMA node, so returning NUMA node zero\n",
            "2024-06-08 01:53:40.882411: I tensorflow/core/common_runtime/gpu/gpu_device.cc:1561] Found device 0 with properties: \n",
            "pciBusID: 0000:02:00.0 name: NVIDIA GeForce GTX 1650 with Max-Q Design computeCapability: 7.5\n",
            "coreClock: 1.245GHz coreCount: 16 deviceMemorySize: 3.82GiB deviceMemoryBandwidth: 104.34GiB/s\n",
            "2024-06-08 01:53:40.882500: I tensorflow/stream_executor/platform/default/dso_loader.cc:44] Successfully opened dynamic library libcudart.so.10.1\n",
            "2024-06-08 01:53:40.882530: I tensorflow/stream_executor/platform/default/dso_loader.cc:44] Successfully opened dynamic library libcublas.so.10\n",
            "2024-06-08 01:53:40.882551: I tensorflow/stream_executor/platform/default/dso_loader.cc:44] Successfully opened dynamic library libcufft.so.10\n",
            "2024-06-08 01:53:40.882570: I tensorflow/stream_executor/platform/default/dso_loader.cc:44] Successfully opened dynamic library libcurand.so.10\n",
            "2024-06-08 01:53:40.882588: I tensorflow/stream_executor/platform/default/dso_loader.cc:44] Successfully opened dynamic library libcusolver.so.10\n",
            "2024-06-08 01:53:40.882606: I tensorflow/stream_executor/platform/default/dso_loader.cc:44] Successfully opened dynamic library libcusparse.so.10\n",
            "2024-06-08 01:53:40.882625: I tensorflow/stream_executor/platform/default/dso_loader.cc:44] Successfully opened dynamic library libcudnn.so.7\n",
            "2024-06-08 01:53:40.882717: I tensorflow/stream_executor/cuda/cuda_gpu_executor.cc:981] successful NUMA node read from SysFS had negative value (-1), but there must be at least one NUMA node, so returning NUMA node zero\n",
            "2024-06-08 01:53:40.883207: I tensorflow/stream_executor/cuda/cuda_gpu_executor.cc:981] successful NUMA node read from SysFS had negative value (-1), but there must be at least one NUMA node, so returning NUMA node zero\n",
            "2024-06-08 01:53:40.883594: I tensorflow/core/common_runtime/gpu/gpu_device.cc:1703] Adding visible gpu devices: 0\n",
            "2024-06-08 01:53:40.883649: I tensorflow/stream_executor/platform/default/dso_loader.cc:44] Successfully opened dynamic library libcudart.so.10.1\n",
            "2024-06-08 01:53:40.884295: I tensorflow/core/common_runtime/gpu/gpu_device.cc:1102] Device interconnect StreamExecutor with strength 1 edge matrix:\n",
            "2024-06-08 01:53:40.884312: I tensorflow/core/common_runtime/gpu/gpu_device.cc:1108]      0 \n",
            "2024-06-08 01:53:40.884321: I tensorflow/core/common_runtime/gpu/gpu_device.cc:1121] 0:   N \n",
            "2024-06-08 01:53:40.884482: I tensorflow/stream_executor/cuda/cuda_gpu_executor.cc:981] successful NUMA node read from SysFS had negative value (-1), but there must be at least one NUMA node, so returning NUMA node zero\n",
            "2024-06-08 01:53:40.884979: I tensorflow/stream_executor/cuda/cuda_gpu_executor.cc:981] successful NUMA node read from SysFS had negative value (-1), but there must be at least one NUMA node, so returning NUMA node zero\n",
            "2024-06-08 01:53:40.885444: I tensorflow/core/common_runtime/gpu/gpu_device.cc:1247] Created TensorFlow device (/job:localhost/replica:0/task:0/device:GPU:0 with 2760 MB memory) -> physical GPU (device: 0, name: NVIDIA GeForce GTX 1650 with Max-Q Design, pci bus id: 0000:02:00.0, compute capability: 7.5)\n",
            "[codecarbon INFO @ 01:53:41] offline tracker init\n",
            "[codecarbon WARNING @ 01:53:41] Invalid gpu_ids format. Expected a string or a list of ints.\n",
            "[codecarbon INFO @ 01:53:41] [setup] RAM Tracking...\n",
            "[codecarbon INFO @ 01:53:41] [setup] GPU Tracking...\n",
            "[codecarbon INFO @ 01:53:41] Tracking Nvidia GPU via pynvml\n",
            "[codecarbon INFO @ 01:53:41] [setup] CPU Tracking...\n",
            "[codecarbon WARNING @ 01:53:41] No CPU tracking mode found. Falling back on CPU constant mode.\n"
          ]
        },
        {
          "name": "stdout",
          "output_type": "stream",
          "text": [
            "model.count_params(): 13002\n"
          ]
        },
        {
          "name": "stderr",
          "output_type": "stream",
          "text": [
            "[codecarbon INFO @ 01:53:42] CPU Model on constant consumption mode: Intel(R) Core(TM) i7-10510U CPU @ 1.80GHz\n",
            "[codecarbon INFO @ 01:53:42] >>> Tracker's metadata:\n",
            "[codecarbon INFO @ 01:53:42]   Platform system: Linux-5.15.0-107-generic-x86_64-with-glibc2.10\n",
            "[codecarbon INFO @ 01:53:42]   Python version: 3.8.13\n",
            "[codecarbon INFO @ 01:53:42]   CodeCarbon version: 2.4.2\n",
            "[codecarbon INFO @ 01:53:42]   Available RAM : 15.417 GB\n",
            "[codecarbon INFO @ 01:53:42]   CPU count: 8\n",
            "[codecarbon INFO @ 01:53:42]   CPU model: Intel(R) Core(TM) i7-10510U CPU @ 1.80GHz\n",
            "[codecarbon INFO @ 01:53:42]   GPU count: 1\n",
            "[codecarbon INFO @ 01:53:42]   GPU model: 1 x NVIDIA GeForce GTX 1650 with Max-Q Design\n",
            "2024-06-08 01:53:43.576242: I tensorflow/stream_executor/platform/default/dso_loader.cc:44] Successfully opened dynamic library libcublas.so.10\n",
            "[codecarbon INFO @ 01:53:57] Energy consumed for RAM : 0.000024 kWh. RAM Power : 5.781364917755127 W\n",
            "[codecarbon INFO @ 01:53:57] Energy consumed for all GPUs : 0.000082 kWh. Total GPU Power : 19.73307514278872 W\n",
            "[codecarbon INFO @ 01:53:57] Energy consumed for all CPUs : 0.000052 kWh. Total CPU Power : 12.5 W\n",
            "[codecarbon INFO @ 01:53:57] 0.000158 kWh of electricity used since the beginning.\n",
            "[codecarbon INFO @ 01:54:12] Energy consumed for RAM : 0.000048 kWh. RAM Power : 5.781364917755127 W\n",
            "[codecarbon INFO @ 01:54:12] Energy consumed for all GPUs : 0.000154 kWh. Total GPU Power : 17.153169724902735 W\n",
            "[codecarbon INFO @ 01:54:12] Energy consumed for all CPUs : 0.000104 kWh. Total CPU Power : 12.5 W\n",
            "[codecarbon INFO @ 01:54:12] 0.000306 kWh of electricity used since the beginning.\n",
            "[codecarbon INFO @ 01:54:27] Energy consumed for RAM : 0.000072 kWh. RAM Power : 5.781364917755127 W\n",
            "[codecarbon INFO @ 01:54:27] Energy consumed for all GPUs : 0.000225 kWh. Total GPU Power : 17.07540777730947 W\n",
            "[codecarbon INFO @ 01:54:27] Energy consumed for all CPUs : 0.000156 kWh. Total CPU Power : 12.5 W\n",
            "[codecarbon INFO @ 01:54:27] 0.000453 kWh of electricity used since the beginning.\n",
            "[codecarbon INFO @ 01:54:36] Energy consumed for RAM : 0.000085 kWh. RAM Power : 5.781364917755127 W\n",
            "[codecarbon INFO @ 01:54:36] Energy consumed for all GPUs : 0.000264 kWh. Total GPU Power : 17.282675093352584 W\n",
            "[codecarbon INFO @ 01:54:36] Energy consumed for all CPUs : 0.000185 kWh. Total CPU Power : 12.5 W\n",
            "[codecarbon INFO @ 01:54:36] 0.000535 kWh of electricity used since the beginning.\n",
            "[codecarbon INFO @ 01:54:36] offline tracker init\n",
            "[codecarbon WARNING @ 01:54:36] Invalid gpu_ids format. Expected a string or a list of ints.\n",
            "[codecarbon INFO @ 01:54:36] [setup] RAM Tracking...\n",
            "[codecarbon INFO @ 01:54:36] [setup] GPU Tracking...\n",
            "[codecarbon INFO @ 01:54:36] Tracking Nvidia GPU via pynvml\n",
            "[codecarbon INFO @ 01:54:36] [setup] CPU Tracking...\n",
            "[codecarbon WARNING @ 01:54:36] No CPU tracking mode found. Falling back on CPU constant mode.\n"
          ]
        },
        {
          "name": "stdout",
          "output_type": "stream",
          "text": [
            "\t conf: [16, 16], \n",
            "\t\t Emissions: 0.00019923805753355612 gCO2/kWh,\n",
            "\t\t test acc:0.9478\n",
            "model.count_params(): 26506\n"
          ]
        },
        {
          "name": "stderr",
          "output_type": "stream",
          "text": [
            "[codecarbon INFO @ 01:54:37] CPU Model on constant consumption mode: Intel(R) Core(TM) i7-10510U CPU @ 1.80GHz\n",
            "[codecarbon INFO @ 01:54:37] >>> Tracker's metadata:\n",
            "[codecarbon INFO @ 01:54:37]   Platform system: Linux-5.15.0-107-generic-x86_64-with-glibc2.10\n",
            "[codecarbon INFO @ 01:54:37]   Python version: 3.8.13\n",
            "[codecarbon INFO @ 01:54:37]   CodeCarbon version: 2.4.2\n",
            "[codecarbon INFO @ 01:54:37]   Available RAM : 15.417 GB\n",
            "[codecarbon INFO @ 01:54:37]   CPU count: 8\n",
            "[codecarbon INFO @ 01:54:37]   CPU model: Intel(R) Core(TM) i7-10510U CPU @ 1.80GHz\n",
            "[codecarbon INFO @ 01:54:37]   GPU count: 1\n",
            "[codecarbon INFO @ 01:54:37]   GPU model: 1 x NVIDIA GeForce GTX 1650 with Max-Q Design\n",
            "[codecarbon INFO @ 01:54:52] Energy consumed for RAM : 0.000024 kWh. RAM Power : 5.781364917755127 W\n",
            "[codecarbon INFO @ 01:54:52] Energy consumed for all GPUs : 0.000072 kWh. Total GPU Power : 17.187966679641477 W\n",
            "[codecarbon INFO @ 01:54:52] Energy consumed for all CPUs : 0.000052 kWh. Total CPU Power : 12.5 W\n",
            "[codecarbon INFO @ 01:54:52] 0.000148 kWh of electricity used since the beginning.\n",
            "[codecarbon INFO @ 01:55:07] Energy consumed for RAM : 0.000048 kWh. RAM Power : 5.781364917755127 W\n",
            "[codecarbon INFO @ 01:55:07] Energy consumed for all GPUs : 0.000144 kWh. Total GPU Power : 17.288919721550897 W\n",
            "[codecarbon INFO @ 01:55:07] Energy consumed for all CPUs : 0.000104 kWh. Total CPU Power : 12.5 W\n",
            "[codecarbon INFO @ 01:55:07] 0.000296 kWh of electricity used since the beginning.\n",
            "[codecarbon INFO @ 01:55:22] Energy consumed for RAM : 0.000072 kWh. RAM Power : 5.781364917755127 W\n",
            "[codecarbon INFO @ 01:55:22] Energy consumed for all GPUs : 0.000216 kWh. Total GPU Power : 17.264190828335312 W\n",
            "[codecarbon INFO @ 01:55:22] Energy consumed for all CPUs : 0.000156 kWh. Total CPU Power : 12.5 W\n",
            "[codecarbon INFO @ 01:55:22] 0.000444 kWh of electricity used since the beginning.\n",
            "[codecarbon INFO @ 01:55:33] Energy consumed for RAM : 0.000089 kWh. RAM Power : 5.781364917755127 W\n",
            "[codecarbon INFO @ 01:55:33] Energy consumed for all GPUs : 0.000267 kWh. Total GPU Power : 17.40552012046113 W\n",
            "[codecarbon INFO @ 01:55:33] Energy consumed for all CPUs : 0.000193 kWh. Total CPU Power : 12.5 W\n",
            "[codecarbon INFO @ 01:55:33] 0.000550 kWh of electricity used since the beginning.\n",
            "[codecarbon INFO @ 01:55:33] offline tracker init\n",
            "[codecarbon WARNING @ 01:55:33] Invalid gpu_ids format. Expected a string or a list of ints.\n",
            "[codecarbon INFO @ 01:55:33] [setup] RAM Tracking...\n",
            "[codecarbon INFO @ 01:55:33] [setup] GPU Tracking...\n",
            "[codecarbon INFO @ 01:55:33] Tracking Nvidia GPU via pynvml\n",
            "[codecarbon INFO @ 01:55:33] [setup] CPU Tracking...\n",
            "[codecarbon WARNING @ 01:55:33] No CPU tracking mode found. Falling back on CPU constant mode.\n"
          ]
        },
        {
          "name": "stdout",
          "output_type": "stream",
          "text": [
            "\t conf: [32, 32], \n",
            "\t\t Emissions: 0.0002048889445870117 gCO2/kWh,\n",
            "\t\t test acc:0.9594\n",
            "model.count_params(): 55050\n"
          ]
        },
        {
          "name": "stderr",
          "output_type": "stream",
          "text": [
            "[codecarbon INFO @ 01:55:34] CPU Model on constant consumption mode: Intel(R) Core(TM) i7-10510U CPU @ 1.80GHz\n",
            "[codecarbon INFO @ 01:55:34] >>> Tracker's metadata:\n",
            "[codecarbon INFO @ 01:55:34]   Platform system: Linux-5.15.0-107-generic-x86_64-with-glibc2.10\n",
            "[codecarbon INFO @ 01:55:34]   Python version: 3.8.13\n",
            "[codecarbon INFO @ 01:55:34]   CodeCarbon version: 2.4.2\n",
            "[codecarbon INFO @ 01:55:35]   Available RAM : 15.417 GB\n",
            "[codecarbon INFO @ 01:55:35]   CPU count: 8\n",
            "[codecarbon INFO @ 01:55:35]   CPU model: Intel(R) Core(TM) i7-10510U CPU @ 1.80GHz\n",
            "[codecarbon INFO @ 01:55:35]   GPU count: 1\n",
            "[codecarbon INFO @ 01:55:35]   GPU model: 1 x NVIDIA GeForce GTX 1650 with Max-Q Design\n",
            "[codecarbon INFO @ 01:55:50] Energy consumed for RAM : 0.000024 kWh. RAM Power : 5.781364917755127 W\n",
            "[codecarbon INFO @ 01:55:50] Energy consumed for all GPUs : 0.000073 kWh. Total GPU Power : 17.47910138396467 W\n",
            "[codecarbon INFO @ 01:55:50] Energy consumed for all CPUs : 0.000052 kWh. Total CPU Power : 12.5 W\n",
            "[codecarbon INFO @ 01:55:50] 0.000149 kWh of electricity used since the beginning.\n",
            "[codecarbon INFO @ 01:56:05] Energy consumed for RAM : 0.000048 kWh. RAM Power : 5.781364917755127 W\n",
            "[codecarbon INFO @ 01:56:05] Energy consumed for all GPUs : 0.000146 kWh. Total GPU Power : 17.443966940407567 W\n",
            "[codecarbon INFO @ 01:56:05] Energy consumed for all CPUs : 0.000104 kWh. Total CPU Power : 12.5 W\n",
            "[codecarbon INFO @ 01:56:05] 0.000298 kWh of electricity used since the beginning.\n",
            "[codecarbon INFO @ 01:56:20] Energy consumed for RAM : 0.000072 kWh. RAM Power : 5.781364917755127 W\n",
            "[codecarbon INFO @ 01:56:20] Energy consumed for all GPUs : 0.000219 kWh. Total GPU Power : 17.54005613736066 W\n",
            "[codecarbon INFO @ 01:56:20] Energy consumed for all CPUs : 0.000156 kWh. Total CPU Power : 12.5 W\n",
            "[codecarbon INFO @ 01:56:20] 0.000447 kWh of electricity used since the beginning.\n",
            "[codecarbon INFO @ 01:56:30] Energy consumed for RAM : 0.000089 kWh. RAM Power : 5.781364917755127 W\n",
            "[codecarbon INFO @ 01:56:30] Energy consumed for all GPUs : 0.000268 kWh. Total GPU Power : 17.55121948486793 W\n",
            "[codecarbon INFO @ 01:56:30] Energy consumed for all CPUs : 0.000192 kWh. Total CPU Power : 12.5 W\n",
            "[codecarbon INFO @ 01:56:30] 0.000549 kWh of electricity used since the beginning.\n",
            "[codecarbon INFO @ 01:56:30] offline tracker init\n",
            "[codecarbon WARNING @ 01:56:30] Invalid gpu_ids format. Expected a string or a list of ints.\n",
            "[codecarbon INFO @ 01:56:30] [setup] RAM Tracking...\n",
            "[codecarbon INFO @ 01:56:30] [setup] GPU Tracking...\n",
            "[codecarbon INFO @ 01:56:30] Tracking Nvidia GPU via pynvml\n",
            "[codecarbon INFO @ 01:56:30] [setup] CPU Tracking...\n",
            "[codecarbon WARNING @ 01:56:30] No CPU tracking mode found. Falling back on CPU constant mode.\n"
          ]
        },
        {
          "name": "stdout",
          "output_type": "stream",
          "text": [
            "\t conf: [64, 64], \n",
            "\t\t Emissions: 0.0002045053729515797 gCO2/kWh,\n",
            "\t\t test acc:0.9727\n",
            "model.count_params(): 105306\n"
          ]
        },
        {
          "name": "stderr",
          "output_type": "stream",
          "text": [
            "[codecarbon INFO @ 01:56:31] CPU Model on constant consumption mode: Intel(R) Core(TM) i7-10510U CPU @ 1.80GHz\n",
            "[codecarbon INFO @ 01:56:31] >>> Tracker's metadata:\n",
            "[codecarbon INFO @ 01:56:31]   Platform system: Linux-5.15.0-107-generic-x86_64-with-glibc2.10\n",
            "[codecarbon INFO @ 01:56:31]   Python version: 3.8.13\n",
            "[codecarbon INFO @ 01:56:31]   CodeCarbon version: 2.4.2\n",
            "[codecarbon INFO @ 01:56:31]   Available RAM : 15.417 GB\n",
            "[codecarbon INFO @ 01:56:31]   CPU count: 8\n",
            "[codecarbon INFO @ 01:56:31]   CPU model: Intel(R) Core(TM) i7-10510U CPU @ 1.80GHz\n",
            "[codecarbon INFO @ 01:56:31]   GPU count: 1\n",
            "[codecarbon INFO @ 01:56:31]   GPU model: 1 x NVIDIA GeForce GTX 1650 with Max-Q Design\n",
            "[codecarbon INFO @ 01:56:46] Energy consumed for RAM : 0.000024 kWh. RAM Power : 5.781364917755127 W\n",
            "[codecarbon INFO @ 01:56:46] Energy consumed for all GPUs : 0.000074 kWh. Total GPU Power : 17.721089539596473 W\n",
            "[codecarbon INFO @ 01:56:46] Energy consumed for all CPUs : 0.000052 kWh. Total CPU Power : 12.5 W\n",
            "[codecarbon INFO @ 01:56:46] 0.000150 kWh of electricity used since the beginning.\n",
            "[codecarbon INFO @ 01:57:01] Energy consumed for RAM : 0.000048 kWh. RAM Power : 5.781364917755127 W\n",
            "[codecarbon INFO @ 01:57:01] Energy consumed for all GPUs : 0.000148 kWh. Total GPU Power : 17.870330197284876 W\n",
            "[codecarbon INFO @ 01:57:01] Energy consumed for all CPUs : 0.000104 kWh. Total CPU Power : 12.5 W\n",
            "[codecarbon INFO @ 01:57:01] 0.000301 kWh of electricity used since the beginning.\n",
            "[codecarbon INFO @ 01:57:16] Energy consumed for RAM : 0.000072 kWh. RAM Power : 5.781364917755127 W\n",
            "[codecarbon INFO @ 01:57:16] Energy consumed for all GPUs : 0.000223 kWh. Total GPU Power : 17.887838517452156 W\n",
            "[codecarbon INFO @ 01:57:16] Energy consumed for all CPUs : 0.000156 kWh. Total CPU Power : 12.5 W\n",
            "[codecarbon INFO @ 01:57:16] 0.000451 kWh of electricity used since the beginning.\n",
            "[codecarbon INFO @ 01:57:31] Energy consumed for RAM : 0.000096 kWh. RAM Power : 5.781364917755127 W\n",
            "[codecarbon INFO @ 01:57:31] Energy consumed for all GPUs : 0.000297 kWh. Total GPU Power : 17.803980583502884 W\n",
            "[codecarbon INFO @ 01:57:31] Energy consumed for all CPUs : 0.000208 kWh. Total CPU Power : 12.5 W\n",
            "[codecarbon INFO @ 01:57:31] 0.000602 kWh of electricity used since the beginning.\n",
            "[codecarbon INFO @ 01:57:32] Energy consumed for RAM : 0.000098 kWh. RAM Power : 5.781364917755127 W\n",
            "[codecarbon INFO @ 01:57:32] Energy consumed for all GPUs : 0.000301 kWh. Total GPU Power : 18.662282343223623 W\n",
            "[codecarbon INFO @ 01:57:32] Energy consumed for all CPUs : 0.000211 kWh. Total CPU Power : 12.5 W\n",
            "[codecarbon INFO @ 01:57:32] 0.000610 kWh of electricity used since the beginning.\n",
            "[codecarbon INFO @ 01:57:32] offline tracker init\n",
            "[codecarbon WARNING @ 01:57:32] Invalid gpu_ids format. Expected a string or a list of ints.\n",
            "[codecarbon INFO @ 01:57:32] [setup] RAM Tracking...\n",
            "[codecarbon INFO @ 01:57:32] [setup] GPU Tracking...\n",
            "[codecarbon INFO @ 01:57:32] Tracking Nvidia GPU via pynvml\n",
            "[codecarbon INFO @ 01:57:32] [setup] CPU Tracking...\n",
            "[codecarbon WARNING @ 01:57:32] No CPU tracking mode found. Falling back on CPU constant mode.\n"
          ]
        },
        {
          "name": "stdout",
          "output_type": "stream",
          "text": [
            "\t conf: [128, 32, 16], \n",
            "\t\t Emissions: 0.0002274125130824626 gCO2/kWh,\n",
            "\t\t test acc:0.9782\n",
            "model.count_params(): 111146\n"
          ]
        },
        {
          "name": "stderr",
          "output_type": "stream",
          "text": [
            "[codecarbon INFO @ 01:57:34] CPU Model on constant consumption mode: Intel(R) Core(TM) i7-10510U CPU @ 1.80GHz\n",
            "[codecarbon INFO @ 01:57:34] >>> Tracker's metadata:\n",
            "[codecarbon INFO @ 01:57:34]   Platform system: Linux-5.15.0-107-generic-x86_64-with-glibc2.10\n",
            "[codecarbon INFO @ 01:57:34]   Python version: 3.8.13\n",
            "[codecarbon INFO @ 01:57:34]   CodeCarbon version: 2.4.2\n",
            "[codecarbon INFO @ 01:57:34]   Available RAM : 15.417 GB\n",
            "[codecarbon INFO @ 01:57:34]   CPU count: 8\n",
            "[codecarbon INFO @ 01:57:34]   CPU model: Intel(R) Core(TM) i7-10510U CPU @ 1.80GHz\n",
            "[codecarbon INFO @ 01:57:34]   GPU count: 1\n",
            "[codecarbon INFO @ 01:57:34]   GPU model: 1 x NVIDIA GeForce GTX 1650 with Max-Q Design\n",
            "[codecarbon INFO @ 01:57:49] Energy consumed for RAM : 0.000024 kWh. RAM Power : 5.781364917755127 W\n",
            "[codecarbon INFO @ 01:57:49] Energy consumed for all GPUs : 0.000074 kWh. Total GPU Power : 17.867790159748832 W\n",
            "[codecarbon INFO @ 01:57:49] Energy consumed for all CPUs : 0.000052 kWh. Total CPU Power : 12.5 W\n",
            "[codecarbon INFO @ 01:57:49] 0.000151 kWh of electricity used since the beginning.\n",
            "[codecarbon INFO @ 01:58:04] Energy consumed for RAM : 0.000048 kWh. RAM Power : 5.781364917755127 W\n",
            "[codecarbon INFO @ 01:58:04] Energy consumed for all GPUs : 0.000149 kWh. Total GPU Power : 17.85877889822782 W\n",
            "[codecarbon INFO @ 01:58:04] Energy consumed for all CPUs : 0.000104 kWh. Total CPU Power : 12.5 W\n",
            "[codecarbon INFO @ 01:58:04] 0.000301 kWh of electricity used since the beginning.\n",
            "[codecarbon INFO @ 01:58:19] Energy consumed for RAM : 0.000072 kWh. RAM Power : 5.781364917755127 W\n",
            "[codecarbon INFO @ 01:58:19] Energy consumed for all GPUs : 0.000224 kWh. Total GPU Power : 17.940925985342524 W\n",
            "[codecarbon INFO @ 01:58:19] Energy consumed for all CPUs : 0.000156 kWh. Total CPU Power : 12.5 W\n",
            "[codecarbon INFO @ 01:58:19] 0.000452 kWh of electricity used since the beginning.\n",
            "[codecarbon INFO @ 01:58:34] Energy consumed for RAM : 0.000096 kWh. RAM Power : 5.781364917755127 W\n",
            "[codecarbon INFO @ 01:58:34] Energy consumed for all GPUs : 0.000298 kWh. Total GPU Power : 17.883583235791168 W\n",
            "[codecarbon INFO @ 01:58:34] Energy consumed for all CPUs : 0.000208 kWh. Total CPU Power : 12.5 W\n",
            "[codecarbon INFO @ 01:58:34] 0.000603 kWh of electricity used since the beginning.\n",
            "[codecarbon INFO @ 01:58:37] Energy consumed for RAM : 0.000101 kWh. RAM Power : 5.781364917755127 W\n",
            "[codecarbon INFO @ 01:58:37] Energy consumed for all GPUs : 0.000314 kWh. Total GPU Power : 17.81640302916975 W\n",
            "[codecarbon INFO @ 01:58:37] Energy consumed for all CPUs : 0.000219 kWh. Total CPU Power : 12.5 W\n",
            "[codecarbon INFO @ 01:58:37] 0.000635 kWh of electricity used since the beginning.\n",
            "[codecarbon INFO @ 01:58:37] offline tracker init\n",
            "[codecarbon WARNING @ 01:58:37] Invalid gpu_ids format. Expected a string or a list of ints.\n"
          ]
        },
        {
          "name": "stdout",
          "output_type": "stream",
          "text": [
            "\t conf: [128, 64, 32], \n",
            "\t\t Emissions: 0.00023659605606570324 gCO2/kWh,\n",
            "\t\t test acc:0.9798\n",
            "model.count_params(): 220186\n"
          ]
        },
        {
          "name": "stderr",
          "output_type": "stream",
          "text": [
            "[codecarbon INFO @ 01:58:38] [setup] RAM Tracking...\n",
            "[codecarbon INFO @ 01:58:38] [setup] GPU Tracking...\n",
            "[codecarbon INFO @ 01:58:38] Tracking Nvidia GPU via pynvml\n",
            "[codecarbon INFO @ 01:58:38] [setup] CPU Tracking...\n",
            "[codecarbon WARNING @ 01:58:38] No CPU tracking mode found. Falling back on CPU constant mode.\n",
            "[codecarbon INFO @ 01:58:39] CPU Model on constant consumption mode: Intel(R) Core(TM) i7-10510U CPU @ 1.80GHz\n",
            "[codecarbon INFO @ 01:58:39] >>> Tracker's metadata:\n",
            "[codecarbon INFO @ 01:58:39]   Platform system: Linux-5.15.0-107-generic-x86_64-with-glibc2.10\n",
            "[codecarbon INFO @ 01:58:39]   Python version: 3.8.13\n",
            "[codecarbon INFO @ 01:58:39]   CodeCarbon version: 2.4.2\n",
            "[codecarbon INFO @ 01:58:39]   Available RAM : 15.417 GB\n",
            "[codecarbon INFO @ 01:58:39]   CPU count: 8\n",
            "[codecarbon INFO @ 01:58:39]   CPU model: Intel(R) Core(TM) i7-10510U CPU @ 1.80GHz\n",
            "[codecarbon INFO @ 01:58:39]   GPU count: 1\n",
            "[codecarbon INFO @ 01:58:39]   GPU model: 1 x NVIDIA GeForce GTX 1650 with Max-Q Design\n",
            "[codecarbon INFO @ 01:58:54] Energy consumed for RAM : 0.000024 kWh. RAM Power : 5.781364917755127 W\n",
            "[codecarbon INFO @ 01:58:54] Energy consumed for all GPUs : 0.000076 kWh. Total GPU Power : 18.17461307907741 W\n",
            "[codecarbon INFO @ 01:58:54] Energy consumed for all CPUs : 0.000052 kWh. Total CPU Power : 12.5 W\n",
            "[codecarbon INFO @ 01:58:54] 0.000152 kWh of electricity used since the beginning.\n",
            "[codecarbon INFO @ 01:59:09] Energy consumed for RAM : 0.000048 kWh. RAM Power : 5.781364917755127 W\n",
            "[codecarbon INFO @ 01:59:09] Energy consumed for all GPUs : 0.000153 kWh. Total GPU Power : 18.54919388009363 W\n",
            "[codecarbon INFO @ 01:59:09] Energy consumed for all CPUs : 0.000104 kWh. Total CPU Power : 12.5 W\n",
            "[codecarbon INFO @ 01:59:09] 0.000305 kWh of electricity used since the beginning.\n",
            "[codecarbon INFO @ 01:59:24] Energy consumed for RAM : 0.000072 kWh. RAM Power : 5.781364917755127 W\n",
            "[codecarbon INFO @ 01:59:24] Energy consumed for all GPUs : 0.000230 kWh. Total GPU Power : 18.510897922690855 W\n",
            "[codecarbon INFO @ 01:59:24] Energy consumed for all CPUs : 0.000156 kWh. Total CPU Power : 12.5 W\n",
            "[codecarbon INFO @ 01:59:24] 0.000459 kWh of electricity used since the beginning.\n",
            "[codecarbon INFO @ 01:59:39] Energy consumed for RAM : 0.000096 kWh. RAM Power : 5.781364917755127 W\n",
            "[codecarbon INFO @ 01:59:39] Energy consumed for all GPUs : 0.000306 kWh. Total GPU Power : 18.268943490253964 W\n",
            "[codecarbon INFO @ 01:59:39] Energy consumed for all CPUs : 0.000208 kWh. Total CPU Power : 12.5 W\n",
            "[codecarbon INFO @ 01:59:39] 0.000611 kWh of electricity used since the beginning.\n",
            "[codecarbon INFO @ 01:59:51] Energy consumed for RAM : 0.000116 kWh. RAM Power : 5.781364917755127 W\n",
            "[codecarbon INFO @ 01:59:51] Energy consumed for all GPUs : 0.000368 kWh. Total GPU Power : 18.17525401690292 W\n",
            "[codecarbon INFO @ 01:59:51] Energy consumed for all CPUs : 0.000251 kWh. Total CPU Power : 12.5 W\n",
            "[codecarbon INFO @ 01:59:51] 0.000736 kWh of electricity used since the beginning.\n",
            "[codecarbon INFO @ 01:59:52] offline tracker init\n",
            "[codecarbon WARNING @ 01:59:52] Invalid gpu_ids format. Expected a string or a list of ints.\n",
            "[codecarbon INFO @ 01:59:52] [setup] RAM Tracking...\n",
            "[codecarbon INFO @ 01:59:52] [setup] GPU Tracking...\n",
            "[codecarbon INFO @ 01:59:52] Tracking Nvidia GPU via pynvml\n",
            "[codecarbon INFO @ 01:59:52] [setup] CPU Tracking...\n",
            "[codecarbon WARNING @ 01:59:52] No CPU tracking mode found. Falling back on CPU constant mode.\n"
          ]
        },
        {
          "name": "stdout",
          "output_type": "stream",
          "text": [
            "\t conf: [256, 64, 32, 16], \n",
            "\t\t Emissions: 0.00027410589190533243 gCO2/kWh,\n",
            "\t\t test acc:0.9768\n",
            "model.count_params(): 244522\n"
          ]
        },
        {
          "name": "stderr",
          "output_type": "stream",
          "text": [
            "[codecarbon INFO @ 01:59:53] CPU Model on constant consumption mode: Intel(R) Core(TM) i7-10510U CPU @ 1.80GHz\n",
            "[codecarbon INFO @ 01:59:53] >>> Tracker's metadata:\n",
            "[codecarbon INFO @ 01:59:53]   Platform system: Linux-5.15.0-107-generic-x86_64-with-glibc2.10\n",
            "[codecarbon INFO @ 01:59:53]   Python version: 3.8.13\n",
            "[codecarbon INFO @ 01:59:53]   CodeCarbon version: 2.4.2\n",
            "[codecarbon INFO @ 01:59:53]   Available RAM : 15.417 GB\n",
            "[codecarbon INFO @ 01:59:53]   CPU count: 8\n",
            "[codecarbon INFO @ 01:59:53]   CPU model: Intel(R) Core(TM) i7-10510U CPU @ 1.80GHz\n",
            "[codecarbon INFO @ 01:59:53]   GPU count: 1\n",
            "[codecarbon INFO @ 01:59:53]   GPU model: 1 x NVIDIA GeForce GTX 1650 with Max-Q Design\n",
            "[codecarbon INFO @ 02:00:08] Energy consumed for RAM : 0.000024 kWh. RAM Power : 5.781364917755127 W\n",
            "[codecarbon INFO @ 02:00:08] Energy consumed for all GPUs : 0.000076 kWh. Total GPU Power : 18.296912607170167 W\n",
            "[codecarbon INFO @ 02:00:08] Energy consumed for all CPUs : 0.000052 kWh. Total CPU Power : 12.5 W\n",
            "[codecarbon INFO @ 02:00:08] 0.000152 kWh of electricity used since the beginning.\n",
            "[codecarbon INFO @ 02:00:23] Energy consumed for RAM : 0.000048 kWh. RAM Power : 5.781364917755127 W\n",
            "[codecarbon INFO @ 02:00:23] Energy consumed for all GPUs : 0.000153 kWh. Total GPU Power : 18.324198939659123 W\n",
            "[codecarbon INFO @ 02:00:23] Energy consumed for all CPUs : 0.000104 kWh. Total CPU Power : 12.5 W\n",
            "[codecarbon INFO @ 02:00:23] 0.000305 kWh of electricity used since the beginning.\n",
            "[codecarbon INFO @ 02:00:38] Energy consumed for RAM : 0.000072 kWh. RAM Power : 5.781364917755127 W\n",
            "[codecarbon INFO @ 02:00:38] Energy consumed for all GPUs : 0.000230 kWh. Total GPU Power : 18.49982586788858 W\n",
            "[codecarbon INFO @ 02:00:38] Energy consumed for all CPUs : 0.000156 kWh. Total CPU Power : 12.5 W\n",
            "[codecarbon INFO @ 02:00:38] 0.000458 kWh of electricity used since the beginning.\n",
            "[codecarbon INFO @ 02:00:53] Energy consumed for RAM : 0.000096 kWh. RAM Power : 5.781364917755127 W\n",
            "[codecarbon INFO @ 02:00:53] Energy consumed for all GPUs : 0.000306 kWh. Total GPU Power : 18.42708510769363 W\n",
            "[codecarbon INFO @ 02:00:53] Energy consumed for all CPUs : 0.000208 kWh. Total CPU Power : 12.5 W\n",
            "[codecarbon INFO @ 02:00:53] 0.000611 kWh of electricity used since the beginning.\n",
            "[codecarbon INFO @ 02:01:04] Energy consumed for RAM : 0.000113 kWh. RAM Power : 5.781364917755127 W\n",
            "[codecarbon INFO @ 02:01:04] Energy consumed for all GPUs : 0.000360 kWh. Total GPU Power : 18.410175068411466 W\n",
            "[codecarbon INFO @ 02:01:04] Energy consumed for all CPUs : 0.000245 kWh. Total CPU Power : 12.5 W\n",
            "[codecarbon INFO @ 02:01:04] 0.000719 kWh of electricity used since the beginning.\n"
          ]
        },
        {
          "name": "stdout",
          "output_type": "stream",
          "text": [
            "\t conf: [256, 128, 64, 32], \n",
            "\t\t Emissions: 0.00026781182814980005 gCO2/kWh,\n",
            "\t\t test acc:0.9795\n"
          ]
        }
      ],
      "source": [
        "from sklearn.metrics import accuracy_score\n",
        "from codecarbon import OfflineEmissionsTracker\n",
        "\n",
        "emissions = []\n",
        "accuracy = []\n",
        "# from less to more complex configs\n",
        "configs = [\n",
        "   [16, 16],\n",
        "   [32, 32],\n",
        "   [64, 64],\n",
        "   [128, 32, 16],\n",
        "   [128, 64, 32],\n",
        "   [256, 64, 32, 16],\n",
        "   [256, 128, 64, 32]\n",
        "]\n",
        "batch_size = 256\n",
        "epochs = 100\n",
        "for conf in configs:\n",
        "    model = build_model(conf)\n",
        "    tracker = OfflineEmissionsTracker(country_iso_code=\"ITA\")\n",
        "    tracker.start()\n",
        "    model.fit(X_train, y_train,\n",
        "                        epochs=epochs,\n",
        "                        batch_size = batch_size,\n",
        "                        verbose = 0)\n",
        "\n",
        "\n",
        "\n",
        "    pred = np.argmax(model.predict(X_test), axis=1)\n",
        "    tmp_emiss = tracker.stop()\n",
        "    emissions.append(tmp_emiss)\n",
        "    temp_acc = accuracy_score(y_test, pred)\n",
        "    accuracy.append(temp_acc)\n",
        "    print(f\"\\t conf: {conf}, \\n\\t\\t Emissions: {tmp_emiss} gCO2/kWh,\\n\\t\\t test acc:{temp_acc}\")\n",
        "\n"
      ]
    },
    {
      "cell_type": "markdown",
      "metadata": {
        "id": "gR7KUD_d4qR9"
      },
      "source": [
        "# **Visualizing the results**\n",
        "* ## We see that for more complex models, the large increase in emissions does not pay off (too small accuracy increase)"
      ]
    },
    {
      "cell_type": "code",
      "execution_count": null,
      "metadata": {
        "id": "4n1HUmh74qR-",
        "outputId": "6dc2b661-927d-4ea6-808b-deac1ea08ef3"
      },
      "outputs": [
        {
          "data": {
            "image/png": "[encoded data removed]",
            "text/plain": [
              "<Figure size 432x288 with 2 Axes>"
            ]
          },
          "metadata": {},
          "output_type": "display_data"
        },
        {
          "data": {
            "image/png": "[encoded data removed]",
            "text/plain": [
              "<Figure size 432x288 with 1 Axes>"
            ]
          },
          "metadata": {
            "needs_background": "light"
          },
          "output_type": "display_data"
        }
      ],
      "source": [
        "import matplotlib.pyplot as plt\n",
        "\n",
        "accuracy = np.array(accuracy)\n",
        "emissions = np.array(emissions)\n",
        "x_values1 = np.arange(len(configs))\n",
        "y_values1 = accuracy\n",
        "\n",
        "x_values2 = x_values1\n",
        "y_values2 = emissions\n",
        "\n",
        "\n",
        "\n",
        "fig=plt.figure()\n",
        "ax=fig.add_subplot(111, label=\"1\")\n",
        "ax2=fig.add_subplot(111, label=\"2\", frame_on=False)\n",
        "#ax3=fig.add_subplot(111, label=\"3\", frame_on=False)\n",
        "\n",
        "ax.plot(x_values1, y_values1, color=\"C0\")\n",
        "ax.set_xlabel(\"model\", color=\"C0\")\n",
        "ax.set_ylabel(\"Accuracy\", color=\"C0\")\n",
        "ax.tick_params(axis='x', colors=\"C0\")\n",
        "ax.tick_params(axis='y', colors=\"C0\")\n",
        "\n",
        "ax2.plot(x_values2, y_values2, color=\"C1\")\n",
        "#ax2.xaxis.tick_top()\n",
        "ax2.yaxis.tick_right()\n",
        "ax2.set_xlabel('Model', color=\"C1\")\n",
        "ax2.set_ylabel('Emissions g CO2/kWh', color=\"C1\")\n",
        "#ax2.xaxis.set_label_position('top')\n",
        "ax2.yaxis.set_label_position('right')\n",
        "ax2.tick_params(axis='x', colors=\"C1\")\n",
        "ax2.tick_params(axis='y', colors=\"C1\")\n",
        "\n",
        "plt.show()\n",
        "x_values3 = accuracy\n",
        "y_values3 = emissions\n",
        "\n",
        "fig2=plt.figure()\n",
        "ax3 = fig2.add_subplot(111, label=\"3\")\n",
        "ax3.scatter(x_values3, y_values3, color=\"C3\")\n",
        "ax3.set_xlabel(\"Accuracy\", color=\"C0\")\n",
        "ax3.set_ylabel(\"Emissions g CO2/kWh\", color=\"C0\")\n",
        "ax3.tick_params(axis='x', colors=\"C0\")\n",
        "ax3.tick_params(axis='y', colors=\"C0\")\n",
        "\n",
        "plt.show()"
      ]
    },
    {
      "cell_type": "markdown",
      "metadata": {
        "id": "AKxWuVKY4qR_"
      },
      "source": [
        "# The Accuracy-Emissions plot shows the region in the bottom-right corner of highest efficiency\n",
        "* ## Se for instance\n",
        ">>  #### A. E. I. Brownlee, J. Adair, S. O. Haraldsson and J. Jabbo, \"Exploring the Accuracy – Energy Trade-off in Machine Learning,\" 2021 IEEE/ACM International Workshop on Genetic Improvement (GI), Madrid, Spain, 2021, pp. 11-18, doi: 10.1109/GI52543.2021.00011."
      ]
    }
  ],
  "metadata": {
    "accelerator": "GPU",
    "colab": {
      "gpuType": "T4",
      "provenance": []
    },
    "kernelspec": {
      "display_name": "Python 3",
      "name": "python3"
    },
    "language_info": {
      "codemirror_mode": {
        "name": "ipython",
        "version": 3
      },
      "file_extension": ".py",
      "mimetype": "text/x-python",
      "name": "python",
      "nbconvert_exporter": "python",
      "pygments_lexer": "ipython3",
      "version": "3.8.13"
    }
  },
  "nbformat": 4,
  "nbformat_minor": 0
}